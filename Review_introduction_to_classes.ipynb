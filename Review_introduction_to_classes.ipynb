{
 "cells": [
  {
   "cell_type": "code",
   "execution_count": 21,
   "id": "7b08f7dd",
   "metadata": {},
   "outputs": [
    {
     "name": "stdout",
     "output_type": "stream",
     "text": [
      "Has passing score\n",
      "[<__main__.Grade object at 0x7fc9350ac880>]\n"
     ]
    }
   ],
   "source": [
    "##1.\n",
    "##Define a class Student this will be our data model at Jan van Eyck High School and Conservatory.\n",
    "##\n",
    "##2.\n",
    "##Add a constructor for Student. Have the constructor take in two parameters: a name and a year. Save those two as\n",
    "##attributes .name and .year.\n",
    "##\n",
    "##\n",
    "##3.\n",
    "##Create three instances of the Student class:\n",
    "##\n",
    "##Roger van der Weyden, year 10\n",
    "##Sandro Botticelli, year 12\n",
    "##Pieter Bruegel the Elder, year 8\n",
    "##Save them into the variables roger, sandro, and pieter.\n",
    "##\n",
    "##\n",
    "##4.\n",
    "##Create a Grade class, with minimum_passing as an attribute set to 65.\n",
    "##\n",
    "##5.\n",
    "##Give Grade a constructor. Take in a parameter score and assign it to self.score.\n",
    "##\n",
    "##6.\n",
    "##In the body of the constructor for Student, declare self.grades as an empty list.\n",
    "##\n",
    "##7.\n",
    "##Add an .add_grade() method to Student that takes a parameter, grade.\n",
    "##\n",
    "##.add_grade() should verify that grade is of type Grade and if so, add it to the Student‘s .grades.\n",
    "##\n",
    "##If grade isn’t an instance of Grade then .add_grade() should do nothing.\n",
    "##\n",
    "##\n",
    "##8.\n",
    "##Create a new Grade with a score of 100 and add it to pieter‘s .grades attribute using .add_grade().\n",
    "\n",
    "\n",
    "class Student:\n",
    "  \n",
    "    def __init__(self, name, year):\n",
    "        self.name = name\n",
    "        self.year = year\n",
    "        self.grades = []\n",
    "\n",
    "    def add_grade(self, grade):\n",
    "        if type(grade) == Grade:\n",
    "          self.grades.append(grade)\n",
    "\n",
    "\n",
    "class Grade:\n",
    "    minimum_passing = 65\n",
    "  \n",
    "    def __init__(self, score):\n",
    "        self.score = score\n",
    "    \n",
    "    def is_passing(self):\n",
    "        if self.score >= Grade.minimum_passing:\n",
    "            return \"Has passing score\"\n",
    "        else:\n",
    "           return \"Has no passing score\" \n",
    "     \n",
    "\n",
    "\n",
    "roger = Student(\"Roger van der Weyden\", 10)\n",
    "sandro = Student(\"Sandro Botticelli\", 12)\n",
    "pieter = Student(\"Pieter Bruegel the Elder\", 8)\n",
    "\n",
    "#pieter.add_grade(Grade(100))\n",
    "\n",
    "pieter_grade = Grade(100)\n",
    "pieter.add_grade(pieter_grade)\n",
    "print(pieter_grade.is_passing())\n",
    "print(pieter.grades)"
   ]
  },
  {
   "cell_type": "code",
   "execution_count": null,
   "id": "4e522a71",
   "metadata": {},
   "outputs": [],
   "source": [
    "##9.\n",
    "##Great job! You’ve created two classes and defined their interactions. This is object-oriented programming! From here you could:\n",
    "##\n",
    "##Write a Grade method .is_passing() that returns whether a Grade has a passing .score.\n",
    "##Write a Student method get_average() that returns the student’s average score.\n",
    "##Add an instance variable to Student that is a dictionary called .attendance, with dates as keys and booleans as values that\n",
    "##indicate whether the student attended school that day.\n",
    "##Write your own classes to do whatever logic you want!\n",
    "\n"
   ]
  }
 ],
 "metadata": {
  "kernelspec": {
   "display_name": "Python 3",
   "language": "python",
   "name": "python3"
  },
  "language_info": {
   "codemirror_mode": {
    "name": "ipython",
    "version": 3
   },
   "file_extension": ".py",
   "mimetype": "text/x-python",
   "name": "python",
   "nbconvert_exporter": "python",
   "pygments_lexer": "ipython3",
   "version": "3.9.5"
  }
 },
 "nbformat": 4,
 "nbformat_minor": 5
}
