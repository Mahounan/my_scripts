{
 "cells": [
  {
   "cell_type": "code",
   "execution_count": 2,
   "id": "5976a906",
   "metadata": {},
   "outputs": [
    {
     "name": "stdout",
     "output_type": "stream",
     "text": [
      "[91, 94, 97, 100]\n"
     ]
    }
   ],
   "source": [
    "#1. Every Three Numbers\n",
    "#Let’s start our challenging problems with a function that creates a list of numbers up to 100 in increments of 3 \n",
    "#starting from a number that is passed to the function as an input parameter. \n",
    "\n",
    "#Write your function here\n",
    "def every_three_nums(start):\n",
    "  return list(range(start, 101, 3))\n",
    "\n",
    "#Uncomment the line below when your function is done\n",
    "print(every_three_nums(91))"
   ]
  },
  {
   "cell_type": "code",
   "execution_count": 3,
   "id": "6d58a02d",
   "metadata": {},
   "outputs": [
    {
     "name": "stdout",
     "output_type": "stream",
     "text": [
      "[4, 23, 42]\n"
     ]
    }
   ],
   "source": [
    "#2. Remove Middle\n",
    "#Our next function will remove all elements from a list with an index within a certain range. \n",
    "#The function will accept a list, a starting index, and an ending index. All elements with an index \n",
    "#between the starting and ending index should be removed from the list.\n",
    "\n",
    "#Write your function here\n",
    "def remove_middle(lst, start, end):\n",
    "  return lst[:start] + lst[end+1:]\n",
    "\n",
    "#Uncomment the line below when your function is done\n",
    "print(remove_middle([4, 8, 15, 16, 23, 42], 1, 3))"
   ]
  },
  {
   "cell_type": "code",
   "execution_count": 4,
   "id": "fb0d2d7f",
   "metadata": {},
   "outputs": [
    {
     "name": "stdout",
     "output_type": "stream",
     "text": [
      "3\n"
     ]
    }
   ],
   "source": [
    "#3. More Frequent Item\n",
    "\n",
    "#Let’s go back to our factory example. We have a conveyor belt of items where each item is represented by \n",
    "#a different number. We want to know, out of two items, which one shows up more on our belt. \n",
    "#To solve this, we can use a function with three parameters. One parameter for the list of items, \n",
    "#another for the first item we are comparing, and another for the second item.\n",
    "\n",
    "#Write your function here\n",
    "def more_frequent_item(lst, item1, item2):\n",
    "  if lst.count(item1) >= lst.count(item2):\n",
    "    return item1\n",
    "  else:\n",
    "    return item2\n",
    "#Uncomment the line below when your function is done\n",
    "print(more_frequent_item([2, 3, 3, 2, 3, 2, 3, 2, 3], 2, 3))"
   ]
  },
  {
   "cell_type": "code",
   "execution_count": 5,
   "id": "ea95c1d9",
   "metadata": {},
   "outputs": [
    {
     "name": "stdout",
     "output_type": "stream",
     "text": [
      "[3, 8, -20, 12]\n"
     ]
    }
   ],
   "source": [
    "#4. Double Index\n",
    "\n",
    "#Our next function will double a value at a given position. We will provide a list and an index to double. \n",
    "#This will create a new list by replacing the value at the index provided with double the original value. \n",
    "#If the index is invalid then we should return the original list.\n",
    "\n",
    "#Write your function here\n",
    "def double_index(lst, index):\n",
    "  if index >= (len(lst)-1):\n",
    "    return lst\n",
    "  else:\n",
    "    new_lst = lst[0:index]\n",
    "    new_lst.append(lst[index]*2)\n",
    "    new_lst = new_lst + lst[index+1:]\n",
    "    return new_lst\n",
    "\n",
    "#Uncomment the line below when your function is done\n",
    "print(double_index([3, 8, -10, 12], 2))"
   ]
  },
  {
   "cell_type": "code",
   "execution_count": null,
   "id": "b298960d",
   "metadata": {},
   "outputs": [],
   "source": [
    "#5. Middle Item\n",
    "\n",
    "#For the final code challenge, we are going to create a function that finds the middle item from a list of values. \n",
    "#This will be different depending on whether there are an odd or even number of values. In the case of an odd \n",
    "#number of elements, we want this function to return the exact middle value. If there is an even number of elements,\n",
    "#it returns the average of the middle two elements. \n",
    "\n",
    "#Write your function here\n",
    "def middle_element(lst):\n",
    "  if len(lst) % 2 == 0:\n",
    "    sum = lst[int(len(lst)/2)] + lst[int(len(lst)/2)-1]\n",
    "    return sum / 2\n",
    "  else:\n",
    "    return lst[int(len(lst)/2)]\n",
    "\n",
    "#Uncomment the line below when your function is done\n",
    "print(middle_element([5, 2, -10, -4, 4, 5]))"
   ]
  }
 ],
 "metadata": {
  "kernelspec": {
   "display_name": "Python 3",
   "language": "python",
   "name": "python3"
  },
  "language_info": {
   "codemirror_mode": {
    "name": "ipython",
    "version": 3
   },
   "file_extension": ".py",
   "mimetype": "text/x-python",
   "name": "python",
   "nbconvert_exporter": "python",
   "pygments_lexer": "ipython3",
   "version": "3.9.5"
  }
 },
 "nbformat": 4,
 "nbformat_minor": 5
}
