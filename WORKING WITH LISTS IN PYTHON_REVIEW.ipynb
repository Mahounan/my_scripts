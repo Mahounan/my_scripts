{
 "cells": [
  {
   "cell_type": "code",
   "execution_count": 1,
   "id": "191fd48f",
   "metadata": {},
   "outputs": [
    {
     "name": "stdout",
     "output_type": "stream",
     "text": [
      "19\n",
      "twin bed\n",
      "pillow\n",
      "['headboard', 'queen bed', 'king bed', 'dresser']\n",
      "['twin bed', 'twin bed', 'headboard']\n",
      "4\n",
      "king bed\n",
      "['19th Century Bed Frame', 'dresser', 'dresser', 'headboard', 'king bed', 'king bed', 'nightstand', 'nightstand', 'pillow', 'pillow', 'queen bed', 'sheets', 'sheets', 'table', 'table', 'twin bed', 'twin bed', 'twin bed', 'twin bed']\n"
     ]
    }
   ],
   "source": [
    "inventory = [\"twin bed\", \"twin bed\", \"headboard\", \"queen bed\", \"king bed\", \"dresser\", \"dresser\", \"table\", \"table\", \"nightstand\", \"nightstand\", \"king bed\", \"king bed\", \"twin bed\", \"twin bed\", \"sheets\", \"sheets\", \"pillow\", \"pillow\"]\n",
    "\n",
    "#First, how many items are in the warehouse?\n",
    "inventory_len = len(inventory)\n",
    "print(inventory_len)\n",
    "\n",
    "#Select the first element\n",
    "first = inventory[1]\n",
    "print(first)\n",
    "\n",
    "#Select the last element\n",
    "last = inventory[-1]\n",
    "print(last)\n",
    "\n",
    "#Select items from the inventory starting at index 2 and up to, but not including, index 6\n",
    "inventory_2_6 = inventory[2:6]\n",
    "print(inventory_2_6)\n",
    "\n",
    "#Select the first 3 items\n",
    "first_3 = inventory[:3]\n",
    "print(first_3)\n",
    "\n",
    "#How many 'twin bed's are in\n",
    "twin_beds = inventory.count(\"twin bed\")\n",
    "print(twin_beds)\n",
    "\n",
    "#Remove the 5th element in the inventory\n",
    "removed_item = inventory.pop(4)\n",
    "print(removed_item)\n",
    "\n",
    "#There was a new item added to our inventory called \"19th Century Bed Frame\".Use the .insert() method to place the new item as the 11th element in our inventory.\n",
    "inventory.insert(10,\"19th Century Bed Frame\")\n",
    "\n",
    "#Sort inventory using the .sort() method or the sorted() function.\n",
    "inventory.sort()\n",
    "print(inventory)\n"
   ]
  },
  {
   "cell_type": "code",
   "execution_count": null,
   "id": "e6e60fbe",
   "metadata": {},
   "outputs": [],
   "source": []
  }
 ],
 "metadata": {
  "kernelspec": {
   "display_name": "Python 3",
   "language": "python",
   "name": "python3"
  },
  "language_info": {
   "codemirror_mode": {
    "name": "ipython",
    "version": 3
   },
   "file_extension": ".py",
   "mimetype": "text/x-python",
   "name": "python",
   "nbconvert_exporter": "python",
   "pygments_lexer": "ipython3",
   "version": "3.9.5"
  }
 },
 "nbformat": 4,
 "nbformat_minor": 5
}
