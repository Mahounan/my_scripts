{
 "cells": [
  {
   "cell_type": "code",
   "execution_count": 1,
   "id": "c3b12d9b",
   "metadata": {},
   "outputs": [
    {
     "name": "stdout",
     "output_type": "stream",
     "text": [
      "[(13262.0, 'Mohamed'), (4816.0, 'Sara'), (6839.0, 'Xia'), (5054.0, 'Paul'), (14724.0, 'Valentina'), (5360.0, 'Jide'), (7640.0, 'Aaron'), (6072.0, 'Emily'), (2750.0, 'Nikita'), (12064.0, 'Paul'), (8320.0, 'Priscilla')]\n",
      "There are 11 medical records\n",
      "Here is the first medical record: (13262.0, 'Mohamed')\n",
      "Here are the medical records sorted by insurance cost: [(2750.0, 'Nikita'), (4816.0, 'Sara'), (5054.0, 'Paul'), (5360.0, 'Jide'), (6072.0, 'Emily'), (6839.0, 'Xia'), (7640.0, 'Aaron'), (8320.0, 'Priscilla'), (12064.0, 'Paul'), (13262.0, 'Mohamed'), (14724.0, 'Valentina')]\n",
      "Here are the three cheapest insurance costs in our medical records: [(2750.0, 'Nikita'), (4816.0, 'Sara'), (5054.0, 'Paul')]\n",
      "Here are the three most expensive insurance costs in our medical records: [(12064.0, 'Paul'), (13262.0, 'Mohamed'), (14724.0, 'Valentina')]\n",
      "There are 2 individuals with the name Paul in our medical records.\n",
      "[('Mohamed', 13262.0), ('Sara', 4816.0), ('Xia', 6839.0), ('Paul', 5054.0), ('Valentina', 14724.0), ('Jide', 5360.0), ('Aaron', 7640.0), ('Emily', 6072.0), ('Nikita', 2750.0), ('Paul', 12064.0), ('Priscilla', 8320.0)]\n",
      "[('Paul', 5054.0), ('Valentina', 14724.0), ('Jide', 5360.0), ('Aaron', 7640.0), ('Emily', 6072.0)]\n"
     ]
    }
   ],
   "source": [
    "names = [\"Mohamed\", \"Sara\", \"Xia\", \"Paul\", \"Valentina\", \"Jide\", \"Aaron\", \"Emily\", \"Nikita\", \"Paul\"]\n",
    "insurance_costs = [13262.0, 4816.0, 6839.0, 5054.0, 14724.0, 5360.0, 7640.0, 6072.0, 2750.0, 12064.0]\n",
    "\n",
    "\n",
    "#1-\n",
    "#Append a new individual, \"Priscilla\", to names.\n",
    "#Append her insurance cost, 8320.0, to insurance_costs.\n",
    "names.append(\"Priscilla\")\n",
    "insurance_costs.append(8320.0)\n",
    "\n",
    "#2-Create a new variable called medical_records that combines insurance_costs and names into a list using the zip() function.\n",
    "medical_records = list(zip(insurance_costs, names))\n",
    "\n",
    "#3-Print out medical_records in the terminal, and make sure the output is what you expected.\n",
    "print(medical_records)\n",
    "\n",
    "#4-We want to see how many medical records we’re dealing with. Create a variable called num_medical_records that stores the length of medical_records.\n",
    "num_medical_records = len(medical_records)\n",
    "\n",
    "#5-Print num_medical_records with the following message:\n",
    "print(\"There are\", str(num_medical_records), \"medical records\")\n",
    "\n",
    "#6-Select the first medical record in medical_records, and save it to a variable called first_medical_record.\n",
    "first_medical_record = medical_records[0]\n",
    "\n",
    "#7-Print first_medical_record with the following message:\n",
    "print(\"Here is the first medical record:\", str(first_medical_record))\n",
    "\n",
    "\n",
    "#8-\n",
    "#Sort medical_records so that the individuals with the lowest insurance costs appear at the start of the list.\n",
    "medical_records.sort()\n",
    "\n",
    "#Print the sorted medical_records with the following message:\n",
    "print(\"Here are the medical records sorted by insurance cost:\", str(medical_records))\n",
    "\n",
    "#9-Slice the medical_records list, and store the three cheapest insurance costs in a list called cheapest_three.\n",
    "cheapest_three = medical_records[:3]\n",
    "\n",
    "#10-Print cheapest_three with the following message:\n",
    "print(\"Here are the three cheapest insurance costs in our medical records:\", str(cheapest_three))\n",
    "\n",
    "#11-Slice the medical_records list, and store the three most expensive insurance costs in a list called priciest_three.\n",
    "priciest_three = medical_records[-3:]\n",
    "\n",
    "#12-Print priciest_three with the following message:\n",
    "print(\"Here are the three most expensive insurance costs in our medical records:\", str(priciest_three))\n",
    "\n",
    "#13.Some individuals in our medical records have the same name. For example, the name “Paul” shows up twice.\n",
    "\n",
    "#Count the number of occurrences of “Paul” in the names list, and store the result in a variable called occurrences_paul.\n",
    "\n",
    "#Print occurrences_paul with the following message\n",
    "occurrences_paul = names.count(\"Paul\")\n",
    "print(\"There are\", str(occurrences_paul), \"individuals with the name Paul in our medical records.\")\n",
    "\n",
    "#14-\n",
    "#Sort the medical records alphabetically by name. You’ll have to create a new list using zip() to do this.\n",
    "medical_records_names = list(zip(names, insurance_costs))\n",
    "print(medical_records_names)\n",
    "\n",
    "#Select the medical records starting at index 3 and ending at index 7 and save it in a variable called middle_five_records.\n",
    "middle_five_records = medical_records_names[3:8]\n",
    "print(middle_five_records)\n",
    "\n"
   ]
  },
  {
   "cell_type": "code",
   "execution_count": null,
   "id": "1b30923d",
   "metadata": {},
   "outputs": [],
   "source": []
  }
 ],
 "metadata": {
  "kernelspec": {
   "display_name": "Python 3",
   "language": "python",
   "name": "python3"
  },
  "language_info": {
   "codemirror_mode": {
    "name": "ipython",
    "version": 3
   },
   "file_extension": ".py",
   "mimetype": "text/x-python",
   "name": "python",
   "nbconvert_exporter": "python",
   "pygments_lexer": "ipython3",
   "version": "3.9.5"
  }
 },
 "nbformat": 4,
 "nbformat_minor": 5
}
