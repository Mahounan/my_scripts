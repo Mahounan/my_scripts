{
 "cells": [
  {
   "cell_type": "code",
   "execution_count": 2,
   "id": "b3d70c64",
   "metadata": {},
   "outputs": [],
   "source": [
    "#You are a doctor who needs to clean up medical patient records, which are currently stored in one large string.\n",
    "\n",
    "#In this project, you will use your new knowledge of Python strings to obtain and clean up medical data so that \n",
    "#it is easier to read and analyze.\n",
    "\n",
    "#Let’s get started!\n",
    "\n",
    "medical_data = \\\n",
    "\"\"\"Marina Allison   ,27   ,   31.1 , \n",
    "#7010.0   ;Markus Valdez   ,   30, \n",
    "22.4,   #4050.0 ;Connie Ballard ,43 \n",
    ",   25.3 , #12060.0 ;Darnell Weber   \n",
    ",   35   , 20.6   , #7500.0;\n",
    "Sylvie Charles   ,22, 22.1 \n",
    ",#3022.0   ;   Vinay Padilla,24,   \n",
    "26.9 ,#4620.0 ;Meredith Santiago, 51   , \n",
    "29.3 ,#16330.0;   Andre Mccarty, \n",
    "19,22.7 , #2900.0 ; \n",
    "Lorena Hodson ,65, 33.1 , #19370.0; \n",
    "Isaac Vu ,34, 24.8,   #7045.0\"\"\"\n",
    "\n",
    "# The string medical_data stores the medical records for ten individuals. Each record is separated\n",
    "#by a ; and contains the name, age, BMI (body mass index), and insurance cost for an individual, in that order."
   ]
  },
  {
   "cell_type": "code",
   "execution_count": 3,
   "id": "57e7f696",
   "metadata": {},
   "outputs": [
    {
     "name": "stdout",
     "output_type": "stream",
     "text": [
      "Marina Allison   ,27   ,   31.1 , \n",
      "#7010.0   ;Markus Valdez   ,   30, \n",
      "22.4,   #4050.0 ;Connie Ballard ,43 \n",
      ",   25.3 , #12060.0 ;Darnell Weber   \n",
      ",   35   , 20.6   , #7500.0;\n",
      "Sylvie Charles   ,22, 22.1 \n",
      ",#3022.0   ;   Vinay Padilla,24,   \n",
      "26.9 ,#4620.0 ;Meredith Santiago, 51   , \n",
      "29.3 ,#16330.0;   Andre Mccarty, \n",
      "19,22.7 , #2900.0 ; \n",
      "Lorena Hodson ,65, 33.1 , #19370.0; \n",
      "Isaac Vu ,34, 24.8,   #7045.0\n"
     ]
    }
   ],
   "source": [
    "#1-Print medical_data to see the output in the terminal\n",
    "print(medical_data)"
   ]
  },
  {
   "cell_type": "code",
   "execution_count": 4,
   "id": "aa5272e4",
   "metadata": {},
   "outputs": [
    {
     "name": "stdout",
     "output_type": "stream",
     "text": [
      "Marina Allison   ,27   ,   31.1 , \n",
      "$7010.0   ;Markus Valdez   ,   30, \n",
      "22.4,   $4050.0 ;Connie Ballard ,43 \n",
      ",   25.3 , $12060.0 ;Darnell Weber   \n",
      ",   35   , 20.6   , $7500.0;\n",
      "Sylvie Charles   ,22, 22.1 \n",
      ",$3022.0   ;   Vinay Padilla,24,   \n",
      "26.9 ,$4620.0 ;Meredith Santiago, 51   , \n",
      "29.3 ,$16330.0;   Andre Mccarty, \n",
      "19,22.7 , $2900.0 ; \n",
      "Lorena Hodson ,65, 33.1 , $19370.0; \n",
      "Isaac Vu ,34, 24.8,   $7045.0\n"
     ]
    }
   ],
   "source": [
    "#2-We want the insurance costs to be represented in US dollars.\n",
    "\n",
    "# Replace all instances of # in medical_data with $. Store the result in a variable called updated_medical_data.\n",
    "\n",
    "#Print updated_medical_data\n",
    "\n",
    "updated_medical_data = medical_data.replace(\"#\", \"$\")\n",
    "print(updated_medical_data)"
   ]
  },
  {
   "cell_type": "code",
   "execution_count": 5,
   "id": "4e781505",
   "metadata": {},
   "outputs": [],
   "source": [
    "#3-We want to calculate the number of medical records in our data.\n",
    "\n",
    "#Create a variable called num_records and initialize it at 0.\n",
    "num_records = 0"
   ]
  },
  {
   "cell_type": "code",
   "execution_count": 6,
   "id": "c3d46564",
   "metadata": {},
   "outputs": [],
   "source": [
    "#4-Next, write a for loop to iterate through the updated_medical_data string. Inside of the loop, add 1 to num_records when the current character is equal to $.\n",
    "\n",
    "for update in updated_medical_data:\n",
    "  if update == \"$\":\n",
    "    num_records += 1"
   ]
  },
  {
   "cell_type": "code",
   "execution_count": 7,
   "id": "302bff03",
   "metadata": {},
   "outputs": [
    {
     "name": "stdout",
     "output_type": "stream",
     "text": [
      "There are 10 medical records in the data.\n"
     ]
    }
   ],
   "source": [
    "#5-Outside of the loop, print num_records with the following message:\n",
    "print(\"There are\", str(num_records), \"medical records in the data.\")"
   ]
  },
  {
   "cell_type": "code",
   "execution_count": 8,
   "id": "e5eec55f",
   "metadata": {},
   "outputs": [
    {
     "name": "stdout",
     "output_type": "stream",
     "text": [
      "['Marina Allison   ,27   ,   31.1 , \\n$7010.0   ', 'Markus Valdez   ,   30, \\n22.4,   $4050.0 ', 'Connie Ballard ,43 \\n,   25.3 , $12060.0 ', 'Darnell Weber   \\n,   35   , 20.6   , $7500.0', '\\nSylvie Charles   ,22, 22.1 \\n,$3022.0   ', '   Vinay Padilla,24,   \\n26.9 ,$4620.0 ', 'Meredith Santiago, 51   , \\n29.3 ,$16330.0', '   Andre Mccarty, \\n19,22.7 , $2900.0 ', ' \\nLorena Hodson ,65, 33.1 , $19370.0', ' \\nIsaac Vu ,34, 24.8,   $7045.0']\n"
     ]
    }
   ],
   "source": [
    "#6-The medical data in its current form is difficult to analyze. An essential job for a data scientist is to clean up data so that it’s easy to work with.\n",
    "\n",
    "#Let’s start off by splitting the updated_medical_data string into a list of each medical record. Remember that each medical record is separated by a ; in the string.\n",
    "\n",
    "#Store the result in a variable called medical_data_split and print this variable.\n",
    "\n",
    "medical_data_split = updated_medical_data.split(\";\")\n",
    "\n",
    "print(medical_data_split)"
   ]
  },
  {
   "cell_type": "code",
   "execution_count": 9,
   "id": "444de0dd",
   "metadata": {},
   "outputs": [],
   "source": [
    "#7-Our data is now stored in a list, but it is still hard to read. Let’s split each medical record into its own list.\n",
    "\n",
    "#First, define an empty list called medical_records.\n",
    "\n",
    "medical_records = []"
   ]
  },
  {
   "cell_type": "code",
   "execution_count": 10,
   "id": "4f1359e8",
   "metadata": {},
   "outputs": [
    {
     "name": "stdout",
     "output_type": "stream",
     "text": [
      "[['Marina Allison   ', '27   ', '   31.1 ', ' \\n$7010.0   '], ['Markus Valdez   ', '   30', ' \\n22.4', '   $4050.0 '], ['Connie Ballard ', '43 \\n', '   25.3 ', ' $12060.0 '], ['Darnell Weber   \\n', '   35   ', ' 20.6   ', ' $7500.0'], ['\\nSylvie Charles   ', '22', ' 22.1 \\n', '$3022.0   '], ['   Vinay Padilla', '24', '   \\n26.9 ', '$4620.0 '], ['Meredith Santiago', ' 51   ', ' \\n29.3 ', '$16330.0'], ['   Andre Mccarty', ' \\n19', '22.7 ', ' $2900.0 '], [' \\nLorena Hodson ', '65', ' 33.1 ', ' $19370.0'], [' \\nIsaac Vu ', '34', ' 24.8', '   $7045.0']]\n"
     ]
    }
   ],
   "source": [
    "#8-Next, iterate through medical_data_split and for each record, split the string after each comma (,) and append the split string to medical_records.\n",
    "\n",
    "#Print medical_records after the loop.\n",
    "\n",
    "for split in medical_data_split:\n",
    "  medical_records.append(split.split(\",\"))\n",
    "\n",
    "print(medical_records)"
   ]
  },
  {
   "cell_type": "code",
   "execution_count": 11,
   "id": "a6e156bb",
   "metadata": {},
   "outputs": [],
   "source": [
    "#9-Our data is now slightly more readable. However, it is not properly formatted – it contains unnecessary whitespace.\n",
    "\n",
    "#To fix this, let’s start by creating an empty list called medical_records_clean.\n",
    "\n",
    "medical_records_clean = []"
   ]
  },
  {
   "cell_type": "code",
   "execution_count": 12,
   "id": "298c3e37",
   "metadata": {},
   "outputs": [],
   "source": [
    "#10-Next, use a for loop to iterate through medical_records.\n",
    "\n",
    "#Inside of the loop, create an empty list called record_clean. We’ll use this list to store a formatted version of each medical record.\n",
    "\n",
    "#11-After the record_clean variable, create a nested for loop that goes through each record:\n",
    "\n",
    "#for item in record:\n",
    "\n",
    "#Inside of this loop, append item.strip() to record_clean to remove any whitespace from the string.\n",
    "\n",
    "#12-Finally, we need to add each cleaned up record to medical_records_clean.\n",
    "\n",
    "#Outside of the nested for loop, append record_clean to medical_records_clean.\n",
    "\n",
    "for record in medical_records:\n",
    "  record_clean = []\n",
    "  for item in record:\n",
    "    record_clean.append(item.strip())\n",
    "  medical_records_clean.append(record_clean)"
   ]
  },
  {
   "cell_type": "code",
   "execution_count": 13,
   "id": "a04ff31f",
   "metadata": {},
   "outputs": [
    {
     "name": "stdout",
     "output_type": "stream",
     "text": [
      "[['Marina Allison', '27', '31.1', '$7010.0'], ['Markus Valdez', '30', '22.4', '$4050.0'], ['Connie Ballard', '43', '25.3', '$12060.0'], ['Darnell Weber', '35', '20.6', '$7500.0'], ['Sylvie Charles', '22', '22.1', '$3022.0'], ['Vinay Padilla', '24', '26.9', '$4620.0'], ['Meredith Santiago', '51', '29.3', '$16330.0'], ['Andre Mccarty', '19', '22.7', '$2900.0'], ['Lorena Hodson', '65', '33.1', '$19370.0'], ['Isaac Vu', '34', '24.8', '$7045.0']]\n"
     ]
    }
   ],
   "source": [
    "#13-Print medical_records_clean outside of the for loops to see the output.\n",
    "\n",
    "#You should see output that is formatted and much easier to read.\n",
    "\n",
    "print(medical_records_clean)"
   ]
  },
  {
   "cell_type": "code",
   "execution_count": 14,
   "id": "64a94c63",
   "metadata": {},
   "outputs": [
    {
     "name": "stdout",
     "output_type": "stream",
     "text": [
      "Marina Allison\n",
      "Markus Valdez\n",
      "Connie Ballard\n",
      "Darnell Weber\n",
      "Sylvie Charles\n",
      "Vinay Padilla\n",
      "Meredith Santiago\n",
      "Andre Mccarty\n",
      "Lorena Hodson\n",
      "Isaac Vu\n"
     ]
    }
   ],
   "source": [
    "#14-Our data is now clean and ready for analysis.\n",
    "\n",
    "#For example, to print out the names of each of the ten individuals, we can use the following loop:\n",
    "\n",
    "for record in medical_records_clean:\n",
    "  print(record[0])"
   ]
  },
  {
   "cell_type": "code",
   "execution_count": 15,
   "id": "f80ac0f9",
   "metadata": {},
   "outputs": [
    {
     "name": "stdout",
     "output_type": "stream",
     "text": [
      "MARINA ALLISON\n",
      "MARKUS VALDEZ\n",
      "CONNIE BALLARD\n",
      "DARNELL WEBER\n",
      "SYLVIE CHARLES\n",
      "VINAY PADILLA\n",
      "MEREDITH SANTIAGO\n",
      "ANDRE MCCARTY\n",
      "LORENA HODSON\n",
      "ISAAC VU\n"
     ]
    }
   ],
   "source": [
    "#15-You want all of the names in the medical records to be in uppercase characters.\n",
    "\n",
    "#In the for loop, update records[0] before the print statement so that all of the characters are uppercase.\n",
    "for record in medical_records_clean:\n",
    "  print(record[0].upper())"
   ]
  },
  {
   "cell_type": "code",
   "execution_count": 16,
   "id": "08331c96",
   "metadata": {},
   "outputs": [],
   "source": [
    "#16-Let’s store each name, age, BMI, and insurance cost in separate lists.\n",
    "\n",
    "#To start, create four empty lists: names ages bmis insurance_costs\n",
    "names = []\n",
    "ages = []\n",
    "bmis = []\n",
    "insurance_costs = []"
   ]
  },
  {
   "cell_type": "code",
   "execution_count": 17,
   "id": "cdfef199",
   "metadata": {},
   "outputs": [],
   "source": [
    "#17-Next, iterate through medical_records_clean and for each record:\n",
    "\n",
    "#Append the name to names.\n",
    "#Append the age to ages.\n",
    "#Append the BMI to bmis.\n",
    "#Append the insurance cost to insurance_costs.\n",
    "\n",
    "for clean in medical_records_clean:\n",
    "  names.append(clean[0])\n",
    "  ages.append(clean[1])\n",
    "  bmis.append(clean[2])\n",
    "  insurance_costs.append(clean[3])"
   ]
  },
  {
   "cell_type": "code",
   "execution_count": 18,
   "id": "705670c8",
   "metadata": {},
   "outputs": [
    {
     "name": "stdout",
     "output_type": "stream",
     "text": [
      "Names: ['Marina Allison', 'Markus Valdez', 'Connie Ballard', 'Darnell Weber', 'Sylvie Charles', 'Vinay Padilla', 'Meredith Santiago', 'Andre Mccarty', 'Lorena Hodson', 'Isaac Vu']\n",
      "Ages: ['27', '30', '43', '35', '22', '24', '51', '19', '65', '34']\n",
      "BMIs: ['31.1', '22.4', '25.3', '20.6', '22.1', '26.9', '29.3', '22.7', '33.1', '24.8']\n",
      "Insurance Costs: ['$7010.0', '$4050.0', '$12060.0', '$7500.0', '$3022.0', '$4620.0', '$16330.0', '$2900.0', '$19370.0', '$7045.0']\n"
     ]
    }
   ],
   "source": [
    "#18-Print names, ages, bmis, and insurance_costs outside of the loop.\n",
    "#Make sure the output is what you expect.\n",
    "print(\"Names:\", names)\n",
    "print(\"Ages:\", ages)\n",
    "print(\"BMIs:\", bmis)\n",
    "print(\"Insurance Costs:\", insurance_costs)"
   ]
  },
  {
   "cell_type": "code",
   "execution_count": 19,
   "id": "749be36e",
   "metadata": {},
   "outputs": [
    {
     "name": "stdout",
     "output_type": "stream",
     "text": [
      "Average BMI: 25.83\n"
     ]
    }
   ],
   "source": [
    "#19-Now that all of our data is in separate lists, we can easily perform analysis on that data. Let’s calculate the average BMI in our dataset.\n",
    "\n",
    "#First, create a variable called total_bmi and set it equal to 0.\n",
    "\n",
    "total_bmi = 0\n",
    "\n",
    "#20-Next, use a for loop to iterate through bmis and add each bmi to total_bmi.\n",
    "\n",
    "#Remember to convert bmi to a float.\n",
    "for bmi in bmis:\n",
    "  total_bmi += float(bmi)\n",
    "\n",
    "#21-After the for loop, create a variable called average_bmi that stores the total_bmi divided by the length of the bmis list.\n",
    "average_bmi = total_bmi/len(bmis)\n",
    "\n",
    "#Print out average_bmi with the following message:\n",
    "print(\"Average BMI:\", str(round(average_bmi, 2)))"
   ]
  },
  {
   "cell_type": "code",
   "execution_count": 20,
   "id": "38ab1b8e",
   "metadata": {},
   "outputs": [
    {
     "name": "stdout",
     "output_type": "stream",
     "text": [
      "Average Insurance: 8390.7\n"
     ]
    }
   ],
   "source": [
    "#EXTRA\n",
    "\n",
    "#22-Calculate the average insurance cost in insurance_costs. You will have to remove the $ in order to calculate this.\n",
    "total_insur = 0\n",
    "for item in insurance_costs:\n",
    "  total_insur += float(item.strip(\"$\"))\n",
    "\n",
    "average_insurance = total_insur/len(insurance_costs)\n",
    "\n",
    "print(\"Average Insurance:\", str(round(average_insurance, 2)))"
   ]
  },
  {
   "cell_type": "code",
   "execution_count": 21,
   "id": "d7c7c5be",
   "metadata": {},
   "outputs": [
    {
     "name": "stdout",
     "output_type": "stream",
     "text": [
      "Marina Allison is 27 years olds with a BMI of 31.1 and an insurance cost of $7010.0\n",
      "Markus Valdez is 30 years olds with a BMI of 22.4 and an insurance cost of $4050.0\n",
      "Connie Ballard is 43 years olds with a BMI of 25.3 and an insurance cost of $12060.0\n",
      "Darnell Weber is 35 years olds with a BMI of 20.6 and an insurance cost of $7500.0\n",
      "Sylvie Charles is 22 years olds with a BMI of 22.1 and an insurance cost of $3022.0\n",
      "Vinay Padilla is 24 years olds with a BMI of 26.9 and an insurance cost of $4620.0\n",
      "Meredith Santiago is 51 years olds with a BMI of 29.3 and an insurance cost of $16330.0\n",
      "Andre Mccarty is 19 years olds with a BMI of 22.7 and an insurance cost of $2900.0\n",
      "Lorena Hodson is 65 years olds with a BMI of 33.1 and an insurance cost of $19370.0\n",
      "Isaac Vu is 34 years olds with a BMI of 24.8 and an insurance cost of $7045.0\n"
     ]
    }
   ],
   "source": [
    "#23-Write a for loop that outputs a string for each individual in the following format:\n",
    "#Marina is 27 year olds with a BMI of 31.1 and an insurance cost of $7010.0.\n",
    "#Markus is 30 years old with a BMI of 22.4 and an insurance cost of $4050.0\n",
    "#...\n",
    "\n",
    "for i in range(len(medical_records_clean)):\n",
    "  print(medical_records_clean[i][0], \"is\", medical_records_clean[i][1], \"years olds with a BMI of\", medical_records_clean[i][2], \"and an insurance cost of\", medical_records_clean[i][3])"
   ]
  },
  {
   "cell_type": "code",
   "execution_count": null,
   "id": "790c61a4",
   "metadata": {},
   "outputs": [],
   "source": []
  }
 ],
 "metadata": {
  "kernelspec": {
   "display_name": "Python 3",
   "language": "python",
   "name": "python3"
  },
  "language_info": {
   "codemirror_mode": {
    "name": "ipython",
    "version": 3
   },
   "file_extension": ".py",
   "mimetype": "text/x-python",
   "name": "python",
   "nbconvert_exporter": "python",
   "pygments_lexer": "ipython3",
   "version": "3.9.5"
  }
 },
 "nbformat": 4,
 "nbformat_minor": 5
}
