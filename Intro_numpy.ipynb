{
 "cells": [
  {
   "cell_type": "markdown",
   "id": "99580e4b",
   "metadata": {},
   "source": [
    "This contains some basics about numpy!"
   ]
  },
  {
   "cell_type": "code",
   "execution_count": 2,
   "id": "e6dc1aa4",
   "metadata": {},
   "outputs": [],
   "source": [
    "#Import numpy library\n",
    "\n",
    "import numpy as np"
   ]
  },
  {
   "cell_type": "markdown",
   "id": "e3679205",
   "metadata": {},
   "source": [
    "## Create arrays\n",
    "\n",
    "Create array from python lists or nested lists using `np.array()`"
   ]
  },
  {
   "cell_type": "code",
   "execution_count": 3,
   "id": "33769652",
   "metadata": {},
   "outputs": [],
   "source": [
    "#1-D array\n",
    "a = np.array([1, 2, 3, 4, 5, 6])\n",
    "\n",
    "#2-D array\n",
    "a = np.array([[1, 2, 3, 4], [5, 6, 7, 8], [9, 10, 11, 12]])\n"
   ]
  },
  {
   "cell_type": "markdown",
   "id": "47bfb482",
   "metadata": {},
   "source": [
    "Accessing array's element through indexes. Indexes starts at 0."
   ]
  },
  {
   "cell_type": "code",
   "execution_count": 6,
   "id": "d5071abb",
   "metadata": {},
   "outputs": [
    {
     "name": "stdout",
     "output_type": "stream",
     "text": [
      "[1 2 3 4]\n",
      "3\n"
     ]
    }
   ],
   "source": [
    "print(a[0]) #should print the first list of the nested list\n",
    "\n",
    "print(a[0][2]) #should print 3"
   ]
  },
  {
   "cell_type": "markdown",
   "id": "4b120e24",
   "metadata": {},
   "source": [
    "Creating arrays filled with `zeros, ones, emmpty, arange, linspace`.\n",
    " - zeros fill with zeros\n",
    " - ones fill with ones\n",
    " - empty fill with random numbers and is more efficient\n",
    " - arange fill with numbers with a range\n",
    " - linspace fill with evenly spaced numbers: provide begining, end and number of elements"
   ]
  },
  {
   "cell_type": "code",
   "execution_count": 10,
   "id": "1825b35f",
   "metadata": {},
   "outputs": [
    {
     "name": "stdout",
     "output_type": "stream",
     "text": [
      "[0. 0.]\n",
      "[1. 1.]\n",
      "[1. 1.]\n",
      "[0 1 2 3]\n",
      "[ 0.   2.5  5.   7.5 10. ]\n"
     ]
    }
   ],
   "source": [
    "a= np.zeros(2)\n",
    "print(a)\n",
    "\n",
    "a= np.ones(2)\n",
    "print(a)\n",
    "\n",
    "a= np.empty(2)\n",
    "print(a)\n",
    "\n",
    "a= np.arange(4)\n",
    "print(a)\n",
    "\n",
    "a= np.linspace(0, 10, num=5)\n",
    "print(a)"
   ]
  },
  {
   "cell_type": "markdown",
   "id": "22901f42",
   "metadata": {},
   "source": [
    "By default it's float but we can set the type `dtype` we want like `int64`."
   ]
  },
  {
   "cell_type": "code",
   "execution_count": 11,
   "id": "02136386",
   "metadata": {},
   "outputs": [
    {
     "name": "stdout",
     "output_type": "stream",
     "text": [
      "[0 0]\n"
     ]
    }
   ],
   "source": [
    "a= np.zeros(2, dtype=np.int64)\n",
    "print(a)"
   ]
  },
  {
   "cell_type": "markdown",
   "id": "81f0c447",
   "metadata": {},
   "source": [
    "## Adding, removing, and sorting elements\n",
    "\n",
    "This section covers `np.sort()`, `np.concatenate()`"
   ]
  },
  {
   "cell_type": "code",
   "execution_count": 13,
   "id": "cbcd8714",
   "metadata": {},
   "outputs": [
    {
     "name": "stdout",
     "output_type": "stream",
     "text": [
      "[1 2 3 4 5 6 7 8]\n"
     ]
    }
   ],
   "source": [
    "arr = np.array([2, 1, 5, 3, 7, 4, 6, 8])\n",
    "arr = np.sort(arr)\n",
    "print(arr)"
   ]
  },
  {
   "cell_type": "code",
   "execution_count": 14,
   "id": "c338e84e",
   "metadata": {},
   "outputs": [
    {
     "name": "stdout",
     "output_type": "stream",
     "text": [
      "[1 2 3 4 5 6 7 8]\n"
     ]
    }
   ],
   "source": [
    "a = np.array([1, 2, 3, 4])\n",
    "b = np.array([5, 6, 7, 8])\n",
    "c = np.concatenate((a, b))\n",
    "print(c)"
   ]
  },
  {
   "cell_type": "code",
   "execution_count": 21,
   "id": "19d1c1ef",
   "metadata": {},
   "outputs": [
    {
     "name": "stdout",
     "output_type": "stream",
     "text": [
      "[[1 2]\n",
      " [3 4]]\n",
      "[[5 6]]\n",
      "[[1 2]\n",
      " [3 4]\n",
      " [5 6]]\n"
     ]
    }
   ],
   "source": [
    "x = np.array([[1, 2], [3, 4]])\n",
    "y = np.array([[5, 6]])\n",
    "z = np.concatenate((x, y), axis=0)\n",
    "print(x)\n",
    "print(y)\n",
    "print(z)"
   ]
  },
  {
   "cell_type": "code",
   "execution_count": 22,
   "id": "23ff6df7",
   "metadata": {},
   "outputs": [],
   "source": [
    "array_example = np.array([\n",
    "[[0, 1, 2, 3],\n",
    "[4, 5, 6, 7]],\n",
    "\n",
    "[[0, 1, 2, 3],\n",
    "[4, 5, 6, 7]],\n",
    "\n",
    "[[0 ,1 ,2, 3],\n",
    "[4, 5, 6, 7]]\n",
    "\n",
    "])"
   ]
  },
  {
   "cell_type": "code",
   "execution_count": 24,
   "id": "087c7227",
   "metadata": {},
   "outputs": [
    {
     "name": "stdout",
     "output_type": "stream",
     "text": [
      "[[[0 1 2 3]\n",
      "  [4 5 6 7]]\n",
      "\n",
      " [[0 1 2 3]\n",
      "  [4 5 6 7]]\n",
      "\n",
      " [[0 1 2 3]\n",
      "  [4 5 6 7]]]\n"
     ]
    }
   ],
   "source": [
    "#to find the dimension\n",
    "array_example.ndim #3-D\n",
    "print(array_example)"
   ]
  },
  {
   "cell_type": "code",
   "execution_count": 25,
   "id": "4212d70d",
   "metadata": {},
   "outputs": [
    {
     "data": {
      "text/plain": [
       "24"
      ]
     },
     "execution_count": 25,
     "metadata": {},
     "output_type": "execute_result"
    }
   ],
   "source": [
    "#To find the total number of elements in the array\n",
    "array_example.size"
   ]
  },
  {
   "cell_type": "code",
   "execution_count": 26,
   "id": "47b3caca",
   "metadata": {},
   "outputs": [
    {
     "data": {
      "text/plain": [
       "(3, 2, 4)"
      ]
     },
     "execution_count": 26,
     "metadata": {},
     "output_type": "execute_result"
    }
   ],
   "source": [
    "#to find the shape of your array\n",
    "array_example.shape "
   ]
  },
  {
   "cell_type": "markdown",
   "id": "87fdcb78",
   "metadata": {},
   "source": [
    "## Reshaping an array\n",
    "\n",
    "Use `.reshape` or `np.reshape`. The latter helps specify few more options."
   ]
  },
  {
   "cell_type": "code",
   "execution_count": 28,
   "id": "2c47182f",
   "metadata": {},
   "outputs": [
    {
     "name": "stdout",
     "output_type": "stream",
     "text": [
      "[0 1 2 3 4 5]\n",
      "[[0 1]\n",
      " [2 3]\n",
      " [4 5]]\n"
     ]
    }
   ],
   "source": [
    "#Create an array\n",
    "a = np.arange(6)\n",
    "print(a)\n",
    "\n",
    "#Reshaping this into 3 rows and 2 columns\n",
    "b = a.reshape(3, 2)\n",
    "print(b)"
   ]
  },
  {
   "cell_type": "code",
   "execution_count": 34,
   "id": "fba2ba47",
   "metadata": {},
   "outputs": [
    {
     "name": "stdout",
     "output_type": "stream",
     "text": [
      "[[0 1 2 3 4 5]]\n"
     ]
    }
   ],
   "source": [
    "#Reshape from matrx to vector\n",
    "c = np.reshape(a, newshape=(1, 6), order='C') #newshape takes either an elemt or a tuple.\n",
    "print(c)"
   ]
  },
  {
   "cell_type": "markdown",
   "id": "82b29653",
   "metadata": {},
   "source": [
    "## How to convert a 1D array into a 2D array (how to add a new axis to an array)¶\n",
    "\n",
    "Use `np.newaxis` to increase the dimension, `np.expand_dims`"
   ]
  },
  {
   "cell_type": "code",
   "execution_count": 36,
   "id": "09738e8f",
   "metadata": {},
   "outputs": [
    {
     "data": {
      "text/plain": [
       "(6, 1)"
      ]
     },
     "execution_count": 36,
     "metadata": {},
     "output_type": "execute_result"
    }
   ],
   "source": [
    "# let's start with this array\n",
    "a = np.array([1, 2, 3, 4, 5, 6])\n",
    "a.shape\n",
    "\n",
    "#row vector\n",
    "row_vector = a[np.newaxis, :]\n",
    "row_vector.shape\n",
    "\n",
    "#column vector\n",
    "col_vector = a[:, np.newaxis]\n",
    "col_vector.shape"
   ]
  },
  {
   "cell_type": "markdown",
   "id": "e253ab01",
   "metadata": {},
   "source": [
    "You can also expand an array by inserting a new axis at a specified position with `np.expand_dims`."
   ]
  },
  {
   "cell_type": "code",
   "execution_count": 42,
   "id": "93f14a4d",
   "metadata": {},
   "outputs": [
    {
     "name": "stdout",
     "output_type": "stream",
     "text": [
      "(6,)\n",
      "[1 2 3 4 5 6]\n"
     ]
    }
   ],
   "source": [
    "a = np.array([1, 2, 3, 4, 5, 6])\n",
    "print(a.shape)\n",
    "print(a)"
   ]
  },
  {
   "cell_type": "code",
   "execution_count": 43,
   "id": "f98db4f8",
   "metadata": {},
   "outputs": [
    {
     "name": "stdout",
     "output_type": "stream",
     "text": [
      "(6, 1)\n",
      "[[1]\n",
      " [2]\n",
      " [3]\n",
      " [4]\n",
      " [5]\n",
      " [6]]\n"
     ]
    }
   ],
   "source": [
    "#add an axis at position 1\n",
    "b = np.expand_dims(a, axis=1)\n",
    "print(b.shape)\n",
    "print(b)"
   ]
  },
  {
   "cell_type": "code",
   "execution_count": 44,
   "id": "def80ccf",
   "metadata": {},
   "outputs": [
    {
     "name": "stdout",
     "output_type": "stream",
     "text": [
      "(1, 6)\n",
      "[[1 2 3 4 5 6]]\n"
     ]
    }
   ],
   "source": [
    "#add an axis at position 0\n",
    "c = np.expand_dims(a, axis=0)\n",
    "print(c.shape)\n",
    "print(c)"
   ]
  },
  {
   "cell_type": "markdown",
   "id": "9731fbf3",
   "metadata": {},
   "source": [
    "## Indexing and slicing\n",
    "Same ways you can slice Python lists"
   ]
  },
  {
   "cell_type": "code",
   "execution_count": 48,
   "id": "6185273a",
   "metadata": {},
   "outputs": [
    {
     "name": "stdout",
     "output_type": "stream",
     "text": [
      "[1 2]\n",
      "[2 3]\n",
      "[2 3]\n",
      "[1]\n"
     ]
    }
   ],
   "source": [
    "data = np.array([1, 2, 3])\n",
    "print(data[0:2])\n",
    "print(data[1:])\n",
    "print(data[-2:])\n",
    "print(data[:-2])"
   ]
  },
  {
   "cell_type": "markdown",
   "id": "da821bb2",
   "metadata": {},
   "source": [
    "If you want to select values from your array that fulfill certain conditions, it’s straightforward with NumPy.\n",
    "\n",
    "For example, if you start with this array:"
   ]
  },
  {
   "cell_type": "code",
   "execution_count": 49,
   "id": "e3f2cc7b",
   "metadata": {},
   "outputs": [
    {
     "name": "stdout",
     "output_type": "stream",
     "text": [
      "[[ 1  2  3  4]\n",
      " [ 5  6  7  8]\n",
      " [ 9 10 11 12]]\n"
     ]
    }
   ],
   "source": [
    "a = np.array([[1 , 2, 3, 4], [5, 6, 7, 8], [9, 10, 11, 12]])\n",
    "print(a)"
   ]
  },
  {
   "cell_type": "code",
   "execution_count": 57,
   "id": "437eb56b",
   "metadata": {},
   "outputs": [
    {
     "name": "stdout",
     "output_type": "stream",
     "text": [
      "[1 2 3 4 5 6 7]\n",
      "[[False False False False]\n",
      " [ True  True  True  True]\n",
      " [ True  True  True  True]]\n",
      "[ 5  6  7  8  9 10 11 12]\n",
      "[ 2  4  6  8 10 12]\n"
     ]
    }
   ],
   "source": [
    "#Print values that are lower than 8\n",
    "print(a[a < 8])\n",
    "\n",
    "#Print values that are greater or equal to 5\n",
    "five_up = (a >= 5)\n",
    "print(five_up)\n",
    "print(a[five_up])\n",
    "\n",
    "#Select elements that are divisible by 2\n",
    "divisible_by_2 = a[a%2==0]\n",
    "print(divisible_by_2)"
   ]
  },
  {
   "cell_type": "markdown",
   "id": "22c7a337",
   "metadata": {},
   "source": [
    "Or you can select elements that satisfy two conditions using the `&` and `|` operators"
   ]
  },
  {
   "cell_type": "code",
   "execution_count": 59,
   "id": "1df7e75d",
   "metadata": {},
   "outputs": [
    {
     "name": "stdout",
     "output_type": "stream",
     "text": [
      "[ 5  6  7  8  9 10 11 12]\n"
     ]
    }
   ],
   "source": [
    "five_up = (a > 5) | (a == 5)\n",
    "print(a[five_up])"
   ]
  },
  {
   "cell_type": "markdown",
   "id": "20db22e3",
   "metadata": {},
   "source": [
    "Print Indices"
   ]
  },
  {
   "cell_type": "code",
   "execution_count": 60,
   "id": "e4d4dad7",
   "metadata": {},
   "outputs": [
    {
     "name": "stdout",
     "output_type": "stream",
     "text": [
      "(array([0, 0, 0, 0]), array([0, 1, 2, 3]))\n"
     ]
    }
   ],
   "source": [
    "a = np.array([[1, 2, 3, 4], [5, 6, 7, 8], [9, 10, 11, 12]])\n",
    "b = np.nonzero(a < 5)\n",
    "print(b)"
   ]
  },
  {
   "cell_type": "markdown",
   "id": "a2f7aa63",
   "metadata": {},
   "source": [
    "In this example, a tuple of arrays was returned: one for each dimension. The first array represents the row indices where these values are found, and the second array represents the column indices where the values are found.<br>\n",
    "\n",
    "If you want to generate a list of coordinates where the elements exist, you can zip the arrays, iterate over the list of coordinates, and print them. For example:"
   ]
  },
  {
   "cell_type": "code",
   "execution_count": 62,
   "id": "55be1f38",
   "metadata": {},
   "outputs": [
    {
     "name": "stdout",
     "output_type": "stream",
     "text": [
      "(0, 0)\n",
      "(0, 1)\n",
      "(0, 2)\n",
      "(0, 3)\n"
     ]
    }
   ],
   "source": [
    "list_of_coordinates= list(zip(b[0], b[1]))\n",
    "\n",
    "for coord in list_of_coordinates:\n",
    "    print(coord)"
   ]
  },
  {
   "cell_type": "markdown",
   "id": "6f9a0499",
   "metadata": {},
   "source": [
    "If the element you’re looking for doesn’t exist in the array, then the returned array of indices will be empty. For example:"
   ]
  },
  {
   "cell_type": "code",
   "execution_count": 63,
   "id": "4b23055b",
   "metadata": {},
   "outputs": [
    {
     "name": "stdout",
     "output_type": "stream",
     "text": [
      "(array([], dtype=int64), array([], dtype=int64))\n"
     ]
    }
   ],
   "source": [
    "not_there = np.nonzero(a == 42)\n",
    "print(not_there)"
   ]
  },
  {
   "cell_type": "markdown",
   "id": "2f41c3fd",
   "metadata": {},
   "source": [
    "## How to create an array from existing data¶\n",
    "\n",
    "This section covers `slicing` and `indexing`, `np.vstack()`, `np.hstack()`, `np.hsplit()`, `.view()`, `copy()`."
   ]
  },
  {
   "cell_type": "code",
   "execution_count": null,
   "id": "0e7bdd5b",
   "metadata": {},
   "outputs": [],
   "source": []
  }
 ],
 "metadata": {
  "kernelspec": {
   "display_name": "Python 3",
   "language": "python",
   "name": "python3"
  },
  "language_info": {
   "codemirror_mode": {
    "name": "ipython",
    "version": 3
   },
   "file_extension": ".py",
   "mimetype": "text/x-python",
   "name": "python",
   "nbconvert_exporter": "python",
   "pygments_lexer": "ipython3",
   "version": "3.9.5"
  }
 },
 "nbformat": 4,
 "nbformat_minor": 5
}
