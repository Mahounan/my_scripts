{
 "cells": [
  {
   "cell_type": "code",
   "execution_count": 1,
   "id": "97535648",
   "metadata": {},
   "outputs": [],
   "source": [
    "# You have been asked to create a program that organizes and updates medical records efficiently.\n",
    "\n",
    "# In this project, you will use your new knowledge of Python dictionaries to create a database of medical records for patients.\n",
    "\n",
    "# Let’s get started!\n",
    "\n",
    "# 1.We would like to keep a record of medical patients and their insurance costs.\n",
    "\n",
    "#First, create an empty dictionary called medical_costs.\n",
    "\n",
    "medical_costs = {}\n"
   ]
  },
  {
   "cell_type": "code",
   "execution_count": 2,
   "id": "68e27685",
   "metadata": {},
   "outputs": [
    {
     "name": "stdout",
     "output_type": "stream",
     "text": [
      "{'Marina': 6607.0, 'Vinay': 3225.0}\n"
     ]
    }
   ],
   "source": [
    "# 2.Let’s populate our medical_costs dictionary by adding the following key-value pairs:\n",
    "\n",
    "#Add \"Marina\" to medical_costs as a key with a value of 6607.0.\n",
    "#Add \"Vinay\" to medical_costs as a key with a value of 3225.0.\n",
    "\n",
    "medical_costs.update({\"Marina\":6607.0, \"Vinay\":3225.0})\n",
    "print(medical_costs)"
   ]
  },
  {
   "cell_type": "code",
   "execution_count": 3,
   "id": "eaaae3d7",
   "metadata": {},
   "outputs": [
    {
     "name": "stdout",
     "output_type": "stream",
     "text": [
      "{'Marina': 6607.0, 'Vinay': 3225.0, 'Connie': 8886.0, 'Isaac': 16444.0, 'Valentina': 6420.0}\n",
      "{'Marina': 6607.0, 'Vinay': 3325.0, 'Connie': 8886.0, 'Isaac': 16444.0, 'Valentina': 6420.0}\n"
     ]
    }
   ],
   "source": [
    "# 3.Using one line of code, add the following three patients to the medical_costs dictionary:\n",
    "\n",
    "#\"Connie\", with an insurance cost of 8886.0\n",
    "#\"Isaac\", with an insurance cost of 16444.0\n",
    "#\"Valentina\", with an insurance cost of 6420.0\n",
    "\n",
    "# 4. Print medical_costs. Make sure the dictionary is what you expected.\n",
    "medical_costs.update({\"Connie\":8886.0, \"Isaac\":16444.0, \"Valentina\":6420.0})\n",
    "print(medical_costs)\n",
    "\n",
    "# 5.You notice that Vinay’s insurance cost was incorrectly inputted. Update the value associated with Vinay to 3325.0.\n",
    "\n",
    "#Print the updated dictionary.\n",
    "\n",
    "medical_costs[\"Vinay\"] = 3325.0\n",
    "\n",
    "print(medical_costs)"
   ]
  },
  {
   "cell_type": "code",
   "execution_count": 4,
   "id": "835fe05e",
   "metadata": {},
   "outputs": [],
   "source": [
    "# 6. Let’s calculate the average medical cost of each patient. Create a variable called total_cost and set it equal to 0.\n",
    "\n",
    "#Next, iterate through the values in medical_costs and add each value to the total_cost variable.\n",
    "\n",
    "total_cost = 0\n",
    "\n",
    "for value in medical_costs.values():\n",
    "  total_cost += value\n"
   ]
  },
  {
   "cell_type": "code",
   "execution_count": 5,
   "id": "15f534f0",
   "metadata": {},
   "outputs": [
    {
     "name": "stdout",
     "output_type": "stream",
     "text": [
      "Average Insurance Cost: 8336.4\n"
     ]
    }
   ],
   "source": [
    "# 7. After the loop, create a variable called average_cost that stores the total_cost divided by the length of the medical_costs dictionary.\n",
    "\n",
    "#Print average_cost with the following message:\n",
    "\n",
    "average_cost = total_cost/len(medical_costs)\n",
    "print(\"Average Insurance Cost: \" + str(average_cost))\n"
   ]
  },
  {
   "cell_type": "code",
   "execution_count": 6,
   "id": "02f23082",
   "metadata": {},
   "outputs": [
    {
     "name": "stdout",
     "output_type": "stream",
     "text": [
      "['Marina', 'Vinay', 'Connie', 'Isaac', 'Valentina']\n",
      "[27, 24, 43, 35, 52]\n"
     ]
    }
   ],
   "source": [
    "# 8. You have been asked to create a second dictionary that maps patient names to their ages.\n",
    "\n",
    "#First, create two lists called names and ages with the following data:\n",
    "names = list(medical_costs.keys())\n",
    "print(names)\n",
    "ages = [27, 24, 43, 35, 52]\n",
    "print(ages)"
   ]
  },
  {
   "cell_type": "code",
   "execution_count": 7,
   "id": "7dc51c41",
   "metadata": {},
   "outputs": [
    {
     "name": "stdout",
     "output_type": "stream",
     "text": [
      "<zip object at 0x7f83b6e92540>\n"
     ]
    }
   ],
   "source": [
    "# 9.Next, create a variable called zipped_ages that is a zipped list of pairs between the names list and the ages list.\n",
    "zipped_ages = zip(names, ages)\n",
    "print(zipped_ages)\n",
    "\n"
   ]
  },
  {
   "cell_type": "code",
   "execution_count": 8,
   "id": "34dfa5ac",
   "metadata": {},
   "outputs": [
    {
     "name": "stdout",
     "output_type": "stream",
     "text": [
      "{'Marina': 27, 'Vinay': 24, 'Connie': 43, 'Isaac': 35, 'Valentina': 52}\n"
     ]
    }
   ],
   "source": [
    "# 10.Create a dictionary called names_to_ages by using a list comprehension that iterates through zipped_ages and turns each pair into a key : value item.\n",
    "\n",
    "#Print names_to_ages to see the result.\n",
    "\n",
    "names_to_ages = {x:y for x,y in zipped_ages}\n",
    "print(names_to_ages)"
   ]
  },
  {
   "cell_type": "code",
   "execution_count": 9,
   "id": "ad9902a6",
   "metadata": {},
   "outputs": [
    {
     "name": "stdout",
     "output_type": "stream",
     "text": [
      "Marina's age is 27\n"
     ]
    }
   ],
   "source": [
    "# 11. Use .get() to get the value of Marina’s age and store it in a variable called marina_age. Use None as a default value if the key doesn’t exist.\n",
    "\n",
    "#Print marina_age with the following message:\n",
    "\n",
    "marina_age = names_to_ages.get(\"Marina\")\n",
    "print(\"Marina's age is\", str(marina_age))"
   ]
  },
  {
   "cell_type": "code",
   "execution_count": 10,
   "id": "3315fe6f",
   "metadata": {},
   "outputs": [],
   "source": [
    "# 12.Let’s create a third dictionary to represent a database of medical records that contains information such as a patient’s name, age, sex, gender, BMI, number of children, smoker status, and insurance cost.\n",
    "\n",
    "#First, create an empty dictionary called medical_records.\n",
    "\n",
    "medical_records = {}\n",
    "\n",
    "# 13. Next, add \"Marina\" to medical_records as a key with the value being a dictionary of medical data:\n",
    "medical_records.update({\"Marina\": {\"Age\": 27, \"Sex\": \"Female\", \"BMI\": 31.1, \"Children\": 2, \"Smoker\": \"Non-smoker\", \"Insurance_cost\": 6607.0}})\n",
    "\n",
    "medical_records.update({\"Vinay\":{\"Age\": 24, \"Sex\": \"Male\", \"BMI\": 26.9, \"Children\": 0, \"Smoker\": \"Non-smoker\", \"Insurance_cost\": 3225.0}})\n",
    "\n",
    "medical_records.update({\"Connie\":{\"Age\": 43, \"Sex\": \"Female\", \"BMI\": 25.3, \"Children\": 3, \"Smoker\": \"Non-smoker\", \"Insurance_cost\": 8886.0}})\n",
    "\n",
    "medical_records.update({\"Isaac\":{\"Age\": 35, \"Sex\": \"Male\", \"BMI\": 20.6, \"Children\": 4, \"Smoker\": \"Smoker\", \"Insurance_cost\": 16444.0}})\n",
    "\n",
    "medical_records.update({\"Valentina\":{\"Age\": 52, \"Sex\": \"Female\", \"BMI\": 18.7, \"Children\": 1, \"Smoker\": \"Non-smoker\", \"Insurance_cost\": 6420.0}})\n",
    "\n",
    "# 15.Print medical_records to see the result.\n",
    "print(medical_records)"
   ]
  },
  {
   "cell_type": "code",
   "execution_count": 11,
   "id": "261f21c8",
   "metadata": {},
   "outputs": [
    {
     "name": "stdout",
     "output_type": "stream",
     "text": [
      "Connie's insurance cost is 8886.0 dollars.\n"
     ]
    },
    {
     "data": {
      "text/plain": [
       "{'Age': 24,\n",
       " 'Sex': 'Male',\n",
       " 'BMI': 26.9,\n",
       " 'Children': 0,\n",
       " 'Smoker': 'Non-smoker',\n",
       " 'Insurance_cost': 3225.0}"
      ]
     },
     "execution_count": 11,
     "metadata": {},
     "output_type": "execute_result"
    }
   ],
   "source": [
    "# 16.The medical_records dictionary acts like a database of medical records. Let’s access a specific piece of data in medical_records.\n",
    "\n",
    "#Print out Connie’s insurance cost with the following message:\n",
    "\n",
    "#Connie's insurance cost is X dollars.\n",
    "print(\"Connie's insurance cost is\", str(medical_records[\"Connie\"][\"Insurance_cost\"]), \"dollars.\")\n",
    "\n",
    "# 17.Vinay has moved to a new country and we no longer want to include him in our medical records.\n",
    "\n",
    "#Remove Vinay from medical_records.\n",
    "medical_records.pop(\"Vinay\")"
   ]
  },
  {
   "cell_type": "code",
   "execution_count": 12,
   "id": "f42cc166",
   "metadata": {},
   "outputs": [
    {
     "name": "stdout",
     "output_type": "stream",
     "text": [
      "Marina is a 27 year old Female Non-smoker with a BMI of 31.1 and insurance cost of 6607.0\n",
      "Connie is a 43 year old Female Non-smoker with a BMI of 25.3 and insurance cost of 8886.0\n",
      "Isaac is a 35 year old Male Smoker with a BMI of 20.6 and insurance cost of 16444.0\n",
      "Valentina is a 52 year old Female Non-smoker with a BMI of 18.7 and insurance cost of 6420.0\n"
     ]
    }
   ],
   "source": [
    "# 18.Let’s take a closer look at each patient’s medical record.\n",
    "\n",
    "#Use a for loop to iterate through the items of medical_records. For each key-value pair, print out a string that looks like the following:\n",
    "\n",
    "for key in list(medical_records.keys()):\n",
    "  print(key + \" is a \" + str(medical_records[key][\"Age\"]) + \" year old \" + medical_records[key][\"Sex\"] + \" \" + medical_records[key][\"Smoker\"] + \" with a BMI of \" + str(medical_records[key][\"BMI\"]) + \" and insurance cost of \" + str(medical_records[key][\"Insurance_cost\"]))"
   ]
  },
  {
   "cell_type": "code",
   "execution_count": 13,
   "id": "8ea79894",
   "metadata": {},
   "outputs": [],
   "source": [
    "# 19.Congratulations! In this project, you used Python dictionaries to store and update medical data for individuals.\n",
    "\n",
    "#If you’d like extra practice with dictionaries, here are some suggestions to go further with this project:\n",
    "\n",
    "#Create a function called update_medical_records() that takes in the name of an individual as well as their medical data, and then updates the medical_records dictionary accordingly.\n",
    "\n",
    "def update_medical_records(name, age, sex, bmi, children, smoker, insurance_cost):\n",
    "  medical_records.update({name:{\"Age\":age, \"Sex\":sex, \"BMI\":bmi, \"Children\": children, \"Smoker\":smoker, \"Insurance_cost\": insurance_cost}})"
   ]
  },
  {
   "cell_type": "code",
   "execution_count": null,
   "id": "bcadbb23",
   "metadata": {},
   "outputs": [],
   "source": []
  }
 ],
 "metadata": {
  "kernelspec": {
   "display_name": "Python 3",
   "language": "python",
   "name": "python3"
  },
  "language_info": {
   "codemirror_mode": {
    "name": "ipython",
    "version": 3
   },
   "file_extension": ".py",
   "mimetype": "text/x-python",
   "name": "python",
   "nbconvert_exporter": "python",
   "pygments_lexer": "ipython3",
   "version": "3.9.5"
  }
 },
 "nbformat": 4,
 "nbformat_minor": 5
}
