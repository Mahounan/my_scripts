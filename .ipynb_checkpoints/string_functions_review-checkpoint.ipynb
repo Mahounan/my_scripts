{
 "cells": [
  {
   "cell_type": "code",
   "execution_count": 1,
   "id": "88e975be",
   "metadata": {},
   "outputs": [],
   "source": [
    "highlighted_poems = \"Afterimages:Audre Lorde:1997,  The Shadow:William Carlos Williams:1915, Ecstasy:Gabriela Mistral:1925,   Georgia Dusk:Jean Toomer:1923,   Parting Before Daybreak:An Qi:2014, The Untold Want:Walt Whitman:1871, Mr. Grumpledump's Song:Shel Silverstein:2004, Angel Sound Mexico City:Carmen Boullosa:2013, In Love:Kamala Suraiyya:1965, Dream Variations:Langston Hughes:1994, Dreamwood:Adrienne Rich:1987\""
   ]
  },
  {
   "cell_type": "code",
   "execution_count": 2,
   "id": "7edb65ad",
   "metadata": {},
   "outputs": [
    {
     "name": "stdout",
     "output_type": "stream",
     "text": [
      "Afterimages:Audre Lorde:1997,  The Shadow:William Carlos Williams:1915, Ecstasy:Gabriela Mistral:1925,   Georgia Dusk:Jean Toomer:1923,   Parting Before Daybreak:An Qi:2014, The Untold Want:Walt Whitman:1871, Mr. Grumpledump's Song:Shel Silverstein:2004, Angel Sound Mexico City:Carmen Boullosa:2013, In Love:Kamala Suraiyya:1965, Dream Variations:Langston Hughes:1994, Dreamwood:Adrienne Rich:1987\n"
     ]
    }
   ],
   "source": [
    "#1-Preserve the Verse has one final task for you. They have delivered you a string that contains a list of poems, titled highlighted_poems, they want to highlight on the site, but they need your help to parse the string into something that can display the name, title, and publication date of the highlighted poems on the site.\n",
    "\n",
    "#First, start by printing highlighted_poems to the terminal and see how it displays..\n",
    "print(highlighted_poems)"
   ]
  },
  {
   "cell_type": "code",
   "execution_count": 3,
   "id": "29f700f2",
   "metadata": {},
   "outputs": [],
   "source": [
    "#2-The information for each poem is separated by commas, and within this information is the title of the poem, the author, and the date of publication.\n",
    "\n",
    "#Start by splitting highlighted_poems at the commas and saving it to highlighted_poems_list.\n",
    "highlighted_poems_list = highlighted_poems.split(\",\")"
   ]
  },
  {
   "cell_type": "code",
   "execution_count": 4,
   "id": "954fb994",
   "metadata": {},
   "outputs": [
    {
     "name": "stdout",
     "output_type": "stream",
     "text": [
      "['Afterimages:Audre Lorde:1997', '  The Shadow:William Carlos Williams:1915', ' Ecstasy:Gabriela Mistral:1925', '   Georgia Dusk:Jean Toomer:1923', '   Parting Before Daybreak:An Qi:2014', ' The Untold Want:Walt Whitman:1871', \" Mr. Grumpledump's Song:Shel Silverstein:2004\", ' Angel Sound Mexico City:Carmen Boullosa:2013', ' In Love:Kamala Suraiyya:1965', ' Dream Variations:Langston Hughes:1994', ' Dreamwood:Adrienne Rich:1987']\n"
     ]
    }
   ],
   "source": [
    "#3-Print highlighted_poems_list, how does the structure of the data look now?\n",
    "print(highlighted_poems_list)\n"
   ]
  },
  {
   "cell_type": "code",
   "execution_count": 5,
   "id": "8170c550",
   "metadata": {},
   "outputs": [],
   "source": [
    "#4-Notice that there is inconsistent whitespace in highlighted_poems_list. Let’s clean that up.\n",
    "\n",
    "#Start by creating a new empty list, highlighted_poems_stripped.\n",
    "\n",
    "#Then, iterate through highlighted_poems_list using a for loop and for each poem strip away the whitespace and append it to your new list, highlighted_poems_stripped.\n",
    "\n",
    "highlighted_poems_stripped=[]\n",
    "for element in highlighted_poems_list:\n",
    "  stripped = element.strip()\n",
    "  highlighted_poems_stripped.append(stripped)\n"
   ]
  },
  {
   "cell_type": "code",
   "execution_count": 6,
   "id": "8db0959c",
   "metadata": {},
   "outputs": [
    {
     "name": "stdout",
     "output_type": "stream",
     "text": [
      "['Afterimages:Audre Lorde:1997', 'The Shadow:William Carlos Williams:1915', 'Ecstasy:Gabriela Mistral:1925', 'Georgia Dusk:Jean Toomer:1923', 'Parting Before Daybreak:An Qi:2014', 'The Untold Want:Walt Whitman:1871', \"Mr. Grumpledump's Song:Shel Silverstein:2004\", 'Angel Sound Mexico City:Carmen Boullosa:2013', 'In Love:Kamala Suraiyya:1965', 'Dream Variations:Langston Hughes:1994', 'Dreamwood:Adrienne Rich:1987']\n"
     ]
    }
   ],
   "source": [
    "#5-Print highlighted_poems_stripped.\n",
    "#Looks good! All the whitespace is cleaned up.\n",
    "print(highlighted_poems_stripped)\n"
   ]
  },
  {
   "cell_type": "code",
   "execution_count": 7,
   "id": "3d937f9c",
   "metadata": {},
   "outputs": [
    {
     "name": "stdout",
     "output_type": "stream",
     "text": [
      "[['Afterimages', 'Audre Lorde', '1997'], ['The Shadow', 'William Carlos Williams', '1915'], ['Ecstasy', 'Gabriela Mistral', '1925'], ['Georgia Dusk', 'Jean Toomer', '1923'], ['Parting Before Daybreak', 'An Qi', '2014'], ['The Untold Want', 'Walt Whitman', '1871'], [\"Mr. Grumpledump's Song\", 'Shel Silverstein', '2004'], ['Angel Sound Mexico City', 'Carmen Boullosa', '2013'], ['In Love', 'Kamala Suraiyya', '1965'], ['Dream Variations', 'Langston Hughes', '1994'], ['Dreamwood', 'Adrienne Rich', '1987']]\n"
     ]
    }
   ],
   "source": [
    "#6-Next we want to break up all the information for each poem into it’s own list, so we end up with a list of lists.\n",
    "\n",
    "#Create a new empty list called highlighted_poems_details.\n",
    "\n",
    "#7-Iterate through highlighted_poems_stripped and split each string around the : characters and append the new lists into highlighted_poems_details\n",
    "highlighted_poems_details=[]\n",
    "for element in highlighted_poems_stripped:\n",
    "  stripped=element.split(\":\")\n",
    "  highlighted_poems_details.append(stripped)\n",
    "\n",
    "print(highlighted_poems_details)\n"
   ]
  },
  {
   "cell_type": "code",
   "execution_count": 8,
   "id": "ad301921",
   "metadata": {},
   "outputs": [],
   "source": [
    "#8-Great! Now we want to separate out all of the titles, the poets, and the publication dates into their own lists.\n",
    "\n",
    "#Create three new empty lists, titles, poets, and dates.\n",
    "\n",
    "#9-Iterate through highlighted_poems_details and for each list in the list append the appropriate elements into the lists titles, poets, and dates.\n",
    "titles=[x for (x,y,z) in highlighted_poems_details]\n",
    "poets=[y for (x,y,z) in highlighted_poems_details]\n",
    "dates=[z for (x,y,z) in highlighted_poems_details]\n"
   ]
  },
  {
   "cell_type": "code",
   "execution_count": 9,
   "id": "f585834d",
   "metadata": {},
   "outputs": [
    {
     "name": "stdout",
     "output_type": "stream",
     "text": [
      "The poem Afterimages was published by Audre Lorde in 1997.\n",
      "The poem The Shadow was published by William Carlos Williams in 1915.\n",
      "The poem Ecstasy was published by Gabriela Mistral in 1925.\n",
      "The poem Georgia Dusk was published by Jean Toomer in 1923.\n",
      "The poem Parting Before Daybreak was published by An Qi in 2014.\n",
      "The poem The Untold Want was published by Walt Whitman in 1871.\n",
      "The poem Mr. Grumpledump's Song was published by Shel Silverstein in 2004.\n",
      "The poem Angel Sound Mexico City was published by Carmen Boullosa in 2013.\n",
      "The poem In Love was published by Kamala Suraiyya in 1965.\n",
      "The poem Dream Variations was published by Langston Hughes in 1994.\n",
      "The poem Dreamwood was published by Adrienne Rich in 1987.\n"
     ]
    }
   ],
   "source": [
    "#10-Finally, write a for loop that uses .format() to print out the following string for each poem:\n",
    "\n",
    "#The poem TITLE was published by POET in DATE.\n",
    "for i in range(len(highlighted_poems_details)):\n",
    "  print(\"The poem {title} was published by {poet} in {date}.\".format(title=highlighted_poems_details[i][0], poet=highlighted_poems_details[i][1], date=highlighted_poems_details[i][2]))"
   ]
  },
  {
   "cell_type": "code",
   "execution_count": null,
   "id": "eefd87af",
   "metadata": {},
   "outputs": [],
   "source": []
  }
 ],
 "metadata": {
  "kernelspec": {
   "display_name": "Python 3",
   "language": "python",
   "name": "python3"
  },
  "language_info": {
   "codemirror_mode": {
    "name": "ipython",
    "version": 3
   },
   "file_extension": ".py",
   "mimetype": "text/x-python",
   "name": "python",
   "nbconvert_exporter": "python",
   "pygments_lexer": "ipython3",
   "version": "3.9.5"
  }
 },
 "nbformat": 4,
 "nbformat_minor": 5
}
