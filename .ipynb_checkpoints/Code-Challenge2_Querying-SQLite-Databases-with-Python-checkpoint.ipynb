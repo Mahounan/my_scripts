{
 "cells": [
  {
   "cell_type": "markdown",
   "id": "87616b6f",
   "metadata": {},
   "source": [
    "# Python and SQL\n",
    "\n",
    "Write a Python program that creates a new database in a file called `original.db` containing a single table called `Pressure`, with a single field called `reading`, and inserts `100,000` random numbers between `10.0 and 25.0`. How long does it take this program to run? How long does it take to run a program that simply writes those random numbers to a file?"
   ]
  },
  {
   "cell_type": "code",
   "execution_count": 30,
   "id": "ececa17c",
   "metadata": {},
   "outputs": [
    {
     "data": {
      "text/plain": [
       "<sqlite3.Cursor at 0x7facef3d3d50>"
      ]
     },
     "execution_count": 30,
     "metadata": {},
     "output_type": "execute_result"
    }
   ],
   "source": [
    "from datetime import datetime\n",
    "\n",
    "start = datetime.now()\n",
    "\n",
    "#import library\n",
    "import sqlite3\n",
    "\n",
    "#create connection\n",
    "connection = sqlite3.connect('original.db')\n",
    "\n",
    "#create a cursor for my connection\n",
    "cursor = connection.cursor()\n",
    "\n",
    "\n",
    "#Create the table\n",
    "#cursor.execute('''DROP TABLE Pressure;''')\n",
    "cursor.execute('''\n",
    "CREATE TABLE Pressure (reading float not null);\n",
    "''')\n",
    "\n",
    "#Create a list containing the random numbers\n",
    "\n",
    "    # import random number generator\n",
    "from numpy.random import uniform\n",
    "\n",
    "random_numbers = uniform(low=10.0, high=25.0, size=100000)\n",
    "\n",
    "#Adding the list to my table\n",
    "for num in random_numbers:\n",
    "    cursor.execute('''INSERT INTO Pressure VALUES (?)''', [num])\n",
    "    \n",
    "# Commit changes to database\n",
    "connection.commit()\n",
    "\n",
    "end = datetime.now()\n",
    "\n",
    "print(\"The time of execution of above program is :\", end-start)"
   ]
  },
  {
   "cell_type": "code",
   "execution_count": 33,
   "id": "26d88c00",
   "metadata": {},
   "outputs": [
    {
     "name": "stdout",
     "output_type": "stream",
     "text": [
      "[24.09441317 10.90784127 24.55526472 ... 17.72608075 16.61523145\n",
      " 10.70056568]\n"
     ]
    }
   ],
   "source": [
    "\n",
    "#Create a python dataframe then print it\n",
    "import pandas as pd\n",
    "\n",
    "data = pd.read_sql_query('''SELECT * FROM Pressure;''', connection)\n",
    "print(data)\n",
    "\n",
    "# save changes to file for next exercise\n",
    "#This code was supposed to go right after the commit command but I needed the connection to create my dataframe so...\n",
    "cursor.close()\n",
    "connection.close()"
   ]
  },
  {
   "cell_type": "markdown",
   "id": "7b6f7efa",
   "metadata": {},
   "source": [
    "For comparison, the following program writes the random numbers into the file `random_numbers.txt`"
   ]
  },
  {
   "cell_type": "code",
   "execution_count": null,
   "id": "263fa80f",
   "metadata": {},
   "outputs": [],
   "source": [
    "start = datetime.now()\n",
    "\n",
    "#writes the random numbers into the file random_numbers.txt\n",
    "with open('random_numbers.txt', 'w') as outfile:\n",
    "    for number in random_numbers:\n",
    "        # need to add linebreak \\n\n",
    "        outfile.write(\"{}\\n\".format(number))\n",
    "        \n",
    "end = datetime.now()\n",
    "print(\"The time of execution of above program is :\", end-start)\n"
   ]
  },
  {
   "cell_type": "markdown",
   "id": "548ef567",
   "metadata": {},
   "source": [
    "# Filtering in SQL vs. Filtering in Python\n",
    "\n",
    "Write a Python program that creates a new database called `backup.db` with the same structure as `original.db` and copies all the values greater than 20.0 from `original.db` to `backup.db`. Which is faster: filtering values in the query, or reading everything into memory and filtering in Python?"
   ]
  },
  {
   "cell_type": "code",
   "execution_count": null,
   "id": "d47d0c26",
   "metadata": {},
   "outputs": [],
   "source": [
    "start = datetime.now()\n",
    "\n",
    "#Connection to the original database\n",
    "connection_original = sqlite3.connect(\"original.db\")\n",
    "cursor_original = connection_original.cursor()\n",
    "cursor_original.execute(\"SELECT * FROM Pressure;\")\n",
    "results = cursor_original.fetchall()\n",
    "cursor_original.close()\n",
    "connection_original.close()\n",
    "\n",
    "#Connection to the original database\n",
    "connection_backup = sqlite3.connect(\"backup.db\")\n",
    "cursor_backup = connection_backup.cursor()\n",
    "cursor_backup.execute(\"CREATE TABLE Pressure (reading float not null)\")\n",
    "query = \"INSERT INTO Pressure (reading) VALUES (?);\"\n",
    "\n",
    "for entry in results:\n",
    "    # number is saved in first column of the table\n",
    "    if entry[0] > 20.0:\n",
    "        cursor_backup.execute(query, entry)\n",
    "\n",
    "cursor_backup.close()\n",
    "connection_backup.commit()\n",
    "connection_backup.close()\n",
    "\n",
    "end = datetime.now()\n",
    "print(\"The time of execution of above program is :\", end-start)\n"
   ]
  },
  {
   "cell_type": "markdown",
   "id": "4ee4261b",
   "metadata": {},
   "source": [
    "In contrast the following example uses the conditional SELECT statement to filter the numbers in SQL. The only lines that changed are in line 5, where the values are fetched from original.db and the for loop starting in line 15 used to insert the numbers into backup.db. Note how this version does not require the use of Python’s if statement."
   ]
  },
  {
   "cell_type": "code",
   "execution_count": null,
   "id": "b28f3241",
   "metadata": {},
   "outputs": [],
   "source": [
    "import sqlite3\n",
    "\n",
    "connection_original = sqlite3.connect(\"original.db\")\n",
    "cursor_original = connection_original.cursor()\n",
    "cursor_original.execute(\"SELECT * FROM Pressure WHERE reading > 20.0;\")\n",
    "results = cursor_original.fetchall()\n",
    "cursor_original.close()\n",
    "connection_original.close()\n",
    "\n",
    "connection_backup = sqlite3.connect(\"backup.db\")\n",
    "cursor_backup = connection_backup.cursor()\n",
    "cursor_backup.execute(\"CREATE TABLE Pressure (reading float not null)\")\n",
    "query = \"INSERT INTO Pressure (reading) VALUES (?);\"\n",
    "\n",
    "for entry in results:\n",
    "    cursor_backup.execute(query, entry)\n",
    "\n",
    "cursor_backup.close()\n",
    "connection_backup.commit()\n",
    "connection_backup.close()"
   ]
  }
 ],
 "metadata": {
  "kernelspec": {
   "display_name": "Python 3",
   "language": "python",
   "name": "python3"
  },
  "language_info": {
   "codemirror_mode": {
    "name": "ipython",
    "version": 3
   },
   "file_extension": ".py",
   "mimetype": "text/x-python",
   "name": "python",
   "nbconvert_exporter": "python",
   "pygments_lexer": "ipython3",
   "version": "3.9.5"
  }
 },
 "nbformat": 4,
 "nbformat_minor": 5
}
