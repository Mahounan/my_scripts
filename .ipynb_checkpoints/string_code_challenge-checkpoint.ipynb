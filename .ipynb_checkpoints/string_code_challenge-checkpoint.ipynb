{
 "cells": [
  {
   "cell_type": "code",
   "execution_count": 4,
   "id": "b86968c1",
   "metadata": {},
   "outputs": [
    {
     "name": "stdout",
     "output_type": "stream",
     "text": [
      "4\n",
      "4\n"
     ]
    }
   ],
   "source": [
    "#1-Write a function called unique_english_letters that takes the string word as a parameter. The function \n",
    "#should return the total number of unique letters in the string. Uppercase and lowercase letters should be\n",
    "#counted as different letters.\n",
    "\n",
    "#We’ve given you a list of every uppercase and lower case letter in the English alphabet. \n",
    "#It will be helpful to include that list in your function.\n",
    "\n",
    "letters = \"ABCDEFGHIJKLMNOPQRSTUVWXYZabcdefghijklmnopqrstuvwxyz\"\n",
    "\n",
    "def unique_english_letters(word):\n",
    "  unique = []\n",
    "  for w in word:\n",
    "    if w in word:  #could merge line 13 & 14 as follow if w in word and not (w in unique):\n",
    "      if not (w in unique):\n",
    "        unique.append(w)\n",
    "      #else:\n",
    "        #continue\n",
    "  return len(unique)\n",
    "\n",
    "print(unique_english_letters(\"mississippi\"))\n",
    "# should print 4\n",
    "print(unique_english_letters(\"Apple\"))\n",
    "# should print 4"
   ]
  },
  {
   "cell_type": "code",
   "execution_count": 5,
   "id": "44ca6897",
   "metadata": {},
   "outputs": [
    {
     "name": "stdout",
     "output_type": "stream",
     "text": [
      "4\n",
      "1\n"
     ]
    }
   ],
   "source": [
    "#2-Write a function named count_char_x that takes a string named word and a single character named x \n",
    "#as parameters. The function should return the number of times x appears in word.\n",
    "\n",
    "def count_char_x(word, x):\n",
    "  number=0\n",
    "  for w in word:\n",
    "    if w == x:\n",
    "      number += 1\n",
    "  return number\n",
    "\n",
    "print(count_char_x(\"mississippi\", \"s\"))\n",
    "# should print 4\n",
    "\n",
    "print(count_char_x(\"mississippi\", \"m\"))\n",
    "# should print 1"
   ]
  },
  {
   "cell_type": "code",
   "execution_count": 6,
   "id": "3fd80e57",
   "metadata": {},
   "outputs": [
    {
     "name": "stdout",
     "output_type": "stream",
     "text": [
      "2\n",
      "1\n"
     ]
    }
   ],
   "source": [
    "#3-Write a function named count_multi_char_x that takes a string named word and a string named x. \n",
    "#This function should do the same thing as the count_char_x function you just wrote - it should return\n",
    "#the number of times x appears in word. However, this time, make sure your function works when x is \n",
    "#multiple characters long.\n",
    "\n",
    "#For example, count_multi_char_x(\"Mississippi\", \"iss\") should return 2\n",
    "\n",
    "def count_multi_char_x(word, x):\n",
    "  return len(word.split(x)) - 1\n",
    "\n",
    "print(count_multi_char_x(\"mississippi\", \"iss\"))\n",
    "# should print 2\n",
    "\n",
    "print(count_multi_char_x(\"apple\", \"pp\"))\n",
    "# should print 1"
   ]
  },
  {
   "cell_type": "code",
   "execution_count": 7,
   "id": "86592b7d",
   "metadata": {},
   "outputs": [
    {
     "name": "stdout",
     "output_type": "stream",
     "text": [
      "pl\n",
      "apple\n"
     ]
    }
   ],
   "source": [
    "#4-Write a function named substring_between_letters that takes a string named word, a single character \n",
    "#named start, and another character named end. This function should return the substring between the \n",
    "#first occurrence of start and end in word. If start or end are not in word, the function should return word.\n",
    "\n",
    "#For example, substring_between_letters(\"apple\", \"p\", \"e\") should return \"pl\".\n",
    "\n",
    "def substring_between_letters(word, start, end):\n",
    "  if start in word and end in word:\n",
    "    index_start = word.find(start)\n",
    "    index_end = word.find(end)\n",
    "    return word[index_start+1:index_end]\n",
    "  else:\n",
    "    return word\n",
    "\n",
    "print(substring_between_letters(\"apple\", \"p\", \"e\"))\n",
    "# should print \"pl\"\n",
    "print(substring_between_letters(\"apple\", \"p\", \"c\"))\n",
    "# should print \"apple\""
   ]
  },
  {
   "cell_type": "code",
   "execution_count": 8,
   "id": "3ef2bf50",
   "metadata": {},
   "outputs": [
    {
     "name": "stdout",
     "output_type": "stream",
     "text": [
      "False\n",
      "True\n"
     ]
    }
   ],
   "source": [
    "#5-Create a function called x_length_words that takes a string named sentence and an integer named x as parameters.\n",
    "#This function should return True if every word in sentence has a length greater than or equal to x.\n",
    "\n",
    "def x_length_words(sentence, x):\n",
    "  sentence_list = sentence.split()\n",
    "  for word in sentence_list:\n",
    "    if len(word) < x:\n",
    "      return False\n",
    "  return True\n",
    "\n",
    "print(x_length_words(\"i like apples\", 2))\n",
    "# should print False\n",
    "\n",
    "print(x_length_words(\"he likes apples\", 2))\n",
    "# should print True"
   ]
  },
  {
   "cell_type": "code",
   "execution_count": 9,
   "id": "58a20bcb",
   "metadata": {},
   "outputs": [
    {
     "name": "stdout",
     "output_type": "stream",
     "text": [
      "True\n",
      "True\n",
      "False\n"
     ]
    }
   ],
   "source": [
    "#6-Write a function called check_for_name that takes two strings as parameters named sentence and name. \n",
    "#The function should return True if name appears in sentence in all lowercase letters, all uppercase letters, \n",
    "#or with any mix of uppercase and lowercase letters. The function should return False otherwise.\n",
    "\n",
    "#For example, the following three calls should all return True:\n",
    "#check_for_name(\"My name is Jamie\", \"Jamie\")\n",
    "#check_for_name(\"My name is jamie\", \"Jamie\")\n",
    "#check_for_name(\"My name is JAMIE\", \"Jamie\")\n",
    "\n",
    "def check_for_name(sentence, name):\n",
    "  if name.lower() in sentence.lower():\n",
    "    return True\n",
    "  else:\n",
    "    return False\n",
    "  \n",
    "print(check_for_name(\"My name is Jamie\", \"Jamie\"))\n",
    "# should print True\n",
    "\n",
    "print(check_for_name(\"My name is jamie\", \"Jamie\"))\n",
    "# should print True\n",
    "\n",
    "print(check_for_name(\"My name is Samantha\", \"Jamie\"))\n",
    "# should print False"
   ]
  },
  {
   "cell_type": "code",
   "execution_count": 10,
   "id": "c4c06c1e",
   "metadata": {},
   "outputs": [
    {
     "name": "stdout",
     "output_type": "stream",
     "text": [
      "Cdcdm\n",
      "Hlowrd\n",
      "\n"
     ]
    }
   ],
   "source": [
    "#7-Create a function named every_other_letter that takes a string named word as a parameter. \n",
    "#The function should return a string containing every other letter in word.\n",
    "\n",
    "# Write your every_other_letter function here:\n",
    "def every_other_letter(word):\n",
    "  every_other = \"\"\n",
    "  for i in range(0, len(word), 2):\n",
    "    every_other += word[i]\n",
    "  return every_other\n",
    "\n",
    "# Uncomment these function calls to test your tip function:\n",
    "print(every_other_letter(\"Codecademy\"))\n",
    "# should print Cdcdm\n",
    "print(every_other_letter(\"Hello world!\"))\n",
    "# should print Hlowrd\n",
    "print(every_other_letter(\"\"))\n",
    "# should print "
   ]
  },
  {
   "cell_type": "code",
   "execution_count": 11,
   "id": "583cf44b",
   "metadata": {},
   "outputs": [
    {
     "name": "stdout",
     "output_type": "stream",
     "text": [
      "ymedacedoC\n",
      "!dlrow olleH\n",
      "\n"
     ]
    }
   ],
   "source": [
    "#8-Write a function named reverse_string that has a string named word as a parameter. The function should return \n",
    "#word in reverse.\n",
    "\n",
    "def reverse_string(word):\n",
    "  word_inverse_list=\"\"\n",
    "  for x in reversed(range(len(word))):\n",
    "    word_inverse_list +=word[x]\n",
    "  return word_inverse_list\n",
    "\n",
    "print(reverse_string(\"Codecademy\"))\n",
    "# should print ymedacedoC\n",
    "\n",
    "print(reverse_string(\"Hello world!\"))\n",
    "# should print !dlrow olleH\n",
    "\n",
    "print(reverse_string(\"\"))\n",
    "# should print"
   ]
  },
  {
   "cell_type": "code",
   "execution_count": 12,
   "id": "2a1a56f7",
   "metadata": {},
   "outputs": [
    {
     "name": "stdout",
     "output_type": "stream",
     "text": [
      "Lodecademy Cearn\n",
      "wello Horld!\n",
      "b a\n"
     ]
    }
   ],
   "source": [
    "#9-A Spoonerism is an error in speech when the first syllables of two words are switched. For example, \n",
    "#a Spoonerism is made when someone says “Belly Jeans” instead of “Jelly Beans”.\n",
    "\n",
    "#Write a function called make_spoonerism that takes two strings as parameters named word1 and word2. \n",
    "#Finding the first syllable of a word is a difficult task, so for our function, we’re going to switch \n",
    "#the first letters of each word. Return the two new words as a single string separated by a space.\n",
    "\n",
    "def make_spoonerism(word1, word2):\n",
    "  return word2[0] + word1[1:] + \" \" + word1[0] + word2[1:]\n",
    "\n",
    "print(make_spoonerism(\"Codecademy\", \"Learn\"))\n",
    "# should print Lodecademy Cearn\n",
    "\n",
    "print(make_spoonerism(\"Hello\", \"world!\"))\n",
    "# should print wello Horld!\n",
    "\n",
    "print(make_spoonerism(\"a\", \"b\"))\n",
    "# should print b a"
   ]
  },
  {
   "cell_type": "code",
   "execution_count": 13,
   "id": "f7fd9229",
   "metadata": {},
   "outputs": [
    {
     "name": "stdout",
     "output_type": "stream",
     "text": [
      "Codecademy!!!!!!!!!!\n",
      "Codecademy is the best place to learn\n"
     ]
    }
   ],
   "source": [
    "#10-Create a function named add_exclamation that has one parameter named word. This function should add exclamation\n",
    "#points to the end of word until word is 20 characters long. If word is already at least 20 characters long, \n",
    "#just return word.\n",
    "\n",
    "def add_exclamation(word):\n",
    "  while len(word) < 20:\n",
    "    word +=\"!\"\n",
    "  else:\n",
    "    return word\n",
    "\n",
    "print(add_exclamation(\"Codecademy\"))\n",
    "# should print Codecademy!!!!!!!!!!\n",
    "\n",
    "print(add_exclamation(\"Codecademy is the best place to learn\"))\n",
    "# should print Codecademy is the best place to learn"
   ]
  },
  {
   "cell_type": "code",
   "execution_count": null,
   "id": "cb7946ab",
   "metadata": {},
   "outputs": [],
   "source": []
  }
 ],
 "metadata": {
  "kernelspec": {
   "display_name": "Python 3",
   "language": "python",
   "name": "python3"
  },
  "language_info": {
   "codemirror_mode": {
    "name": "ipython",
    "version": 3
   },
   "file_extension": ".py",
   "mimetype": "text/x-python",
   "name": "python",
   "nbconvert_exporter": "python",
   "pygments_lexer": "ipython3",
   "version": "3.9.5"
  }
 },
 "nbformat": 4,
 "nbformat_minor": 5
}
