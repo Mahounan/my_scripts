{
 "cells": [
  {
   "cell_type": "code",
   "execution_count": 1,
   "id": "6322098d",
   "metadata": {},
   "outputs": [],
   "source": [
    "names = [\"Judith\", \"Abel\", \"Tyson\", \"Martha\", \"Beverley\", \"David\", \"Anabel\"]\n",
    "estimated_insurance_costs = [1000.0, 2000.0, 3000.0, 4000.0, 5000.0, 6000.0, 7000.0]\n",
    "actual_insurance_costs = [1100.0, 2200.0, 3300.0, 4400.0, 5500.0, 6600.0, 7700.0]"
   ]
  },
  {
   "cell_type": "code",
   "execution_count": 2,
   "id": "587a5be2",
   "metadata": {},
   "outputs": [],
   "source": [
    "#CREATING A FOR LOOP"
   ]
  },
  {
   "cell_type": "code",
   "execution_count": 3,
   "id": "65b12aba",
   "metadata": {},
   "outputs": [],
   "source": [
    "#1-We want to calculate the average insurance cost each person paid. We’ll start by adding up all of the insurance costs.\n",
    "\n",
    "#Create a variable total_cost and initialize it to 0.\n",
    "\n",
    "total_cost = 0"
   ]
  },
  {
   "cell_type": "code",
   "execution_count": 4,
   "id": "e1fa1268",
   "metadata": {},
   "outputs": [],
   "source": [
    "#2-Use a for loop to iterate through actual_insurance_costs and add each insurance cost to the variable total_cost.\n",
    "\n",
    "#for cost in actual_insurance_costs:\n",
    "  #total_cost += cost\n",
    "\n",
    "#Using while loop instead of a for loop\n",
    "i = 0\n",
    "while i < len(actual_insurance_costs):\n",
    "  total_cost += actual_insurance_costs[i]\n",
    "  i +=1"
   ]
  },
  {
   "cell_type": "code",
   "execution_count": 5,
   "id": "1aab7cae",
   "metadata": {},
   "outputs": [],
   "source": [
    "#3-After the for loop, create a variable called average_cost that stores the total_cost divided by the length of the actual_insurance_costs list.\n",
    "\n",
    "average_cost = total_cost/len(actual_insurance_costs)"
   ]
  },
  {
   "cell_type": "code",
   "execution_count": 6,
   "id": "d24ef654",
   "metadata": {},
   "outputs": [
    {
     "name": "stdout",
     "output_type": "stream",
     "text": [
      "Average Insurance Cost: 4400.0\n"
     ]
    }
   ],
   "source": [
    "#4-Print average_cost with the following message\n",
    "print(\"Average Insurance Cost:\", str(average_cost))"
   ]
  },
  {
   "cell_type": "code",
   "execution_count": 7,
   "id": "4f6e537a",
   "metadata": {},
   "outputs": [],
   "source": [
    "#USING A RANGE IN LOOPS"
   ]
  },
  {
   "cell_type": "code",
   "execution_count": 8,
   "id": "994ee324",
   "metadata": {},
   "outputs": [
    {
     "name": "stdout",
     "output_type": "stream",
     "text": [
      "The insurance cost for Judith is 1100.0 dollars.\n",
      "The insurance cost for Judith is 3300.0 below average\n",
      "The insurance cost for Abel is 2200.0 dollars.\n",
      "The insurance cost for Abel is 2200.0 below average\n",
      "The insurance cost for Tyson is 3300.0 dollars.\n",
      "The insurance cost for Tyson is 1100.0 below average\n",
      "The insurance cost for Martha is 4400.0 dollars.\n",
      "The insurance cost for Martha is equal to average\n",
      "The insurance cost for Beverley is 5500.0 dollars.\n",
      "The insurance cost for Beverley is 1100.0 above average\n",
      "The insurance cost for David is 6600.0 dollars.\n",
      "The insurance cost for David is 2200.0 above average\n",
      "The insurance cost for Anabel is 7700.0 dollars.\n",
      "The insurance cost for Anabel is 3300.0 above average\n"
     ]
    }
   ],
   "source": [
    "#5-For each individual in names, we want to determine whether their insurance cost is above or below average.\n",
    "\n",
    "#Write a for loop with variable i that goes from 0 to len(names)\n",
    "\n",
    "\n",
    "#8-Inside of the for loop, use if, elif, else statements after the print statement to check whether the insurance cost is above, below, or equal to the average. Print out messages for each case\n",
    "\n",
    "for i in range(len(names)):\n",
    "  name = names[i]\n",
    "  insurance_cost = actual_insurance_costs[i]\n",
    "  print(\"The insurance cost for\", name, \"is\", str(insurance_cost), \"dollars.\")\n",
    "  if insurance_cost > average_cost:\n",
    "    amount = insurance_cost-average_cost\n",
    "    print(\"The insurance cost for\", name, \"is\", str(amount), \"above average\")\n",
    "  elif insurance_cost < average_cost:\n",
    "    amount = average_cost-insurance_cost\n",
    "    print(\"The insurance cost for\", name, \"is\", str(amount), \"below average\")\n",
    "  else:\n",
    "    print(\"The insurance cost for\", name, \"is equal to average\")\n"
   ]
  },
  {
   "cell_type": "code",
   "execution_count": 10,
   "id": "2e6dcc1d",
   "metadata": {},
   "outputs": [
    {
     "name": "stdout",
     "output_type": "stream",
     "text": [
      "[1100.0, 2200.0, 3300.0, 4400.0, 5500.0, 6600.0, 7700.0]\n"
     ]
    }
   ],
   "source": [
    "#10- If you look closely at actual_insurance_costs and estimated_insurance_costs, you will notice that each of the actual insurance costs are 10% higher than the estimated insurance costs.\n",
    "\n",
    "#Using a list comprehension, create a new list called updated_estimated_costs, which has each element in estimated_insurance_costs multiplied by 11/10.\n",
    "updated_estimated_costs = [round(cost * (11/10), 1) for cost in estimated_insurance_costs]\n",
    "\n",
    "print(updated_estimated_costs)"
   ]
  },
  {
   "cell_type": "code",
   "execution_count": null,
   "id": "4d84b07d",
   "metadata": {},
   "outputs": [],
   "source": []
  }
 ],
 "metadata": {
  "kernelspec": {
   "display_name": "Python 3",
   "language": "python",
   "name": "python3"
  },
  "language_info": {
   "codemirror_mode": {
    "name": "ipython",
    "version": 3
   },
   "file_extension": ".py",
   "mimetype": "text/x-python",
   "name": "python",
   "nbconvert_exporter": "python",
   "pygments_lexer": "ipython3",
   "version": "3.9.5"
  }
 },
 "nbformat": 4,
 "nbformat_minor": 5
}
