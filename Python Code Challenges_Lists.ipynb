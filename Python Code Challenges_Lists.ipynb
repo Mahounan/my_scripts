{
 "cells": [
  {
   "cell_type": "code",
   "execution_count": 1,
   "id": "477e5873",
   "metadata": {},
   "outputs": [
    {
     "name": "stdout",
     "output_type": "stream",
     "text": [
      "[23, 42, 108, 3]\n"
     ]
    }
   ],
   "source": [
    "#1. Append Size\n",
    "#For the first code challenge, we are going to calculate the length of a list and then \n",
    "#append the value to the end of the list.Write your function here\n",
    "def append_size(lst):\n",
    "  lst_len = len(lst)\n",
    "  lst.append(lst_len)\n",
    "  return lst\n",
    "   \n",
    "\n",
    "#Uncomment the line below when your function is done\n",
    "print(append_size([23, 42, 108]))"
   ]
  },
  {
   "cell_type": "code",
   "execution_count": 4,
   "id": "19be9222",
   "metadata": {},
   "outputs": [
    {
     "name": "stdout",
     "output_type": "stream",
     "text": [
      "[1, 1, 2, 3, 5, 8]\n"
     ]
    }
   ],
   "source": [
    "#2. Append Sum\n",
    "#Let’s create a function that calculates the sum of the last two elements of a list and appends it to the end. \n",
    "#After doing so, it will repeat this process two more times and return the resulting list. \n",
    "#Write your function here\n",
    "#1-Manual repetition\n",
    "def append_sum(lst):\n",
    "  lst_len = len(lst)\n",
    "  lst.append((lst[lst_len-2] + lst[lst_len-1]))\n",
    "  lst_len = len(lst)\n",
    "  lst.append((lst[lst_len-2] + lst[lst_len-1]))\n",
    "  lst_len = len(lst)\n",
    "  lst.append((lst[lst_len-2] + lst[lst_len-1]))\n",
    "  return lst\n",
    "\n",
    "#Uncomment the line below when your function is done\n",
    "print(append_sum([1, 1, 2]))\n",
    "\n",
    "#Or a more simple code\n",
    "def append_sum(lst):\n",
    "  lst.append(lst[-1] + lst[-2])\n",
    "  lst.append(lst[-1] + lst[-2])\n",
    "  lst.append(lst[-1] + lst[-2])\n",
    "  return lst"
   ]
  },
  {
   "cell_type": "code",
   "execution_count": 5,
   "id": "ab927615",
   "metadata": {},
   "outputs": [
    {
     "name": "stdout",
     "output_type": "stream",
     "text": [
      "[1, 1, 2, 3, 5, 8]\n"
     ]
    }
   ],
   "source": [
    "#3. Larger List\n",
    "#Let’s create a function that calculates the sum of the last two elements of a list and appends it to the end. \n",
    "#After doing so, it will repeat this process two more times and return the resulting list. \n",
    "#Write your function here\n",
    "#2-Looping version of the above\n",
    "def append_sum(lst):\n",
    "    for i in range(3):\n",
    "        lst_len = len(lst)\n",
    "        lst.append((lst[lst_len-2] + lst[lst_len-1]))     \n",
    "  \n",
    "    return lst\n",
    "\n",
    "#Uncomment the line below when your function is done\n",
    "print(append_sum([1, 1, 2]))\n",
    "\n",
    "#Or a more simple code\n",
    "def append_sum(lst):\n",
    "    for i in range(3):\n",
    "        lst.append(lst[-1] + lst[-2])\n",
    "    return lst\n"
   ]
  },
  {
   "cell_type": "code",
   "execution_count": 6,
   "id": "7c434ff9",
   "metadata": {},
   "outputs": [
    {
     "name": "stdout",
     "output_type": "stream",
     "text": [
      "True\n"
     ]
    }
   ],
   "source": [
    "#4. More Than N\n",
    "#Our factory produces a variety of different flavored snacks and we want to check the number of instances of a \n",
    "#certain type. We have a conveyor belt full of different types of snacks represented by different numbers. \n",
    "#Our function will accept a list of numbers (representing the type of snack), \n",
    "#a number for the second parameter (the type of snack we are looking for), \n",
    "#and another number as the third parameter (the maximum number of that type of snack on the conveyor belt). \n",
    "#The function will return True if the snack we are searching for appears more times than we provided as our \n",
    "#third parameter. \n",
    "\n",
    "#Write your function here\n",
    "def more_than_n(lst, item, n):\n",
    "  if lst.count(item) > n:\n",
    "    return True\n",
    "  else:\n",
    "    return False\n",
    "\n",
    "#Uncomment the line below when your function is done\n",
    "print(more_than_n([2, 4, 6, 2, 3, 2, 1, 2], 2, 3))"
   ]
  },
  {
   "cell_type": "code",
   "execution_count": 7,
   "id": "64ac70a6",
   "metadata": {},
   "outputs": [
    {
     "name": "stdout",
     "output_type": "stream",
     "text": [
      "[-10, 2, 2, 4, 5, 5, 10, 10]\n"
     ]
    }
   ],
   "source": [
    "#5. Combine Sort\n",
    "#Finally, let’s create a function that combines two different lists together and then sorts them. \n",
    "#To do this we can combine the lists with an operation and then sort using a function call.\n",
    "\n",
    "#Write your function here\n",
    "def combine_sort(lst1, lst2):\n",
    "  new_lst = sorted(lst1 + lst2)\n",
    "  return new_lst\n",
    "\n",
    "#Uncomment the line below when your function is done\n",
    "print(combine_sort([4, 10, 2, 5], [-10, 2, 5, 10]))"
   ]
  },
  {
   "cell_type": "code",
   "execution_count": null,
   "id": "9d48e251",
   "metadata": {},
   "outputs": [],
   "source": []
  }
 ],
 "metadata": {
  "kernelspec": {
   "display_name": "Python 3",
   "language": "python",
   "name": "python3"
  },
  "language_info": {
   "codemirror_mode": {
    "name": "ipython",
    "version": 3
   },
   "file_extension": ".py",
   "mimetype": "text/x-python",
   "name": "python",
   "nbconvert_exporter": "python",
   "pygments_lexer": "ipython3",
   "version": "3.9.5"
  }
 },
 "nbformat": 4,
 "nbformat_minor": 5
}
