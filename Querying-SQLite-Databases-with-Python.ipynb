{
 "cells": [
  {
   "cell_type": "markdown",
   "id": "0e2b8622",
   "metadata": {},
   "source": [
    "Mahounan Y.\n",
    "\n",
    "November 3rd, 2021\n",
    "\n",
    "## Intro\n",
    "In this file, I am practicing the basic commands to link `python` to `SQLite` using the **sqlite3** library. Three steps are needed:\n",
    "\n",
    "`1. Import the library`\n",
    "\n",
    "`2. Create a connection between python and SQLite`\n",
    "\n",
    "`3. Create a cursor that will be used to move back and forth between python and sqlite`"
   ]
  },
  {
   "cell_type": "code",
   "execution_count": 21,
   "id": "bfcd125d",
   "metadata": {},
   "outputs": [],
   "source": [
    "#Import the library\n",
    "import sqlite3\n",
    "\n",
    "#Create connection to database\n",
    "connection = sqlite3.connect(\"first.db\")\n",
    "\n",
    "#Create cursor object\n",
    "cursor = connection.cursor()"
   ]
  },
  {
   "cell_type": "code",
   "execution_count": 22,
   "id": "1ccbc8a5",
   "metadata": {},
   "outputs": [
    {
     "ename": "OperationalError",
     "evalue": "table students already exists",
     "output_type": "error",
     "traceback": [
      "\u001b[0;31m---------------------------------------------------------------------------\u001b[0m",
      "\u001b[0;31mOperationalError\u001b[0m                          Traceback (most recent call last)",
      "\u001b[0;32m<ipython-input-22-5aab15f029aa>\u001b[0m in \u001b[0;36m<module>\u001b[0;34m\u001b[0m\n\u001b[1;32m      1\u001b[0m \u001b[0;31m# Create students table\u001b[0m\u001b[0;34m\u001b[0m\u001b[0;34m\u001b[0m\u001b[0;34m\u001b[0m\u001b[0m\n\u001b[0;32m----> 2\u001b[0;31m cursor.execute('''CREATE TABLE students (\n\u001b[0m\u001b[1;32m      3\u001b[0m                     \u001b[0mid\u001b[0m \u001b[0mINTEGER\u001b[0m \u001b[0mPRIMARY\u001b[0m \u001b[0mKEY\u001b[0m\u001b[0;34m,\u001b[0m\u001b[0;34m\u001b[0m\u001b[0;34m\u001b[0m\u001b[0m\n\u001b[1;32m      4\u001b[0m                     \u001b[0mname\u001b[0m \u001b[0mTEXT\u001b[0m \u001b[0mNOT\u001b[0m \u001b[0mNULL\u001b[0m\u001b[0;34m,\u001b[0m\u001b[0;34m\u001b[0m\u001b[0;34m\u001b[0m\u001b[0m\n\u001b[1;32m      5\u001b[0m                     \u001b[0memail\u001b[0m \u001b[0mTEXT\u001b[0m \u001b[0mNOT\u001b[0m \u001b[0mNULL\u001b[0m \u001b[0mUNIQUE\u001b[0m\u001b[0;34m,\u001b[0m\u001b[0;34m\u001b[0m\u001b[0;34m\u001b[0m\u001b[0m\n",
      "\u001b[0;31mOperationalError\u001b[0m: table students already exists"
     ]
    }
   ],
   "source": [
    "# Create students table\n",
    "cursor.execute('''CREATE TABLE students (\n",
    "                    id INTEGER PRIMARY KEY,\n",
    "                    name TEXT NOT NULL,\n",
    "                    email TEXT NOT NULL UNIQUE,\n",
    "                    major_code INTEGER,\n",
    "                    grad_date datetime,\n",
    "                    grade REAL NOT NULL)''')"
   ]
  },
  {
   "cell_type": "code",
   "execution_count": 23,
   "id": "bf2f8b69",
   "metadata": {},
   "outputs": [
    {
     "ename": "IntegrityError",
     "evalue": "UNIQUE constraint failed: students.id",
     "output_type": "error",
     "traceback": [
      "\u001b[0;31m---------------------------------------------------------------------------\u001b[0m",
      "\u001b[0;31mIntegrityError\u001b[0m                            Traceback (most recent call last)",
      "\u001b[0;32m<ipython-input-23-48f8b6da5055>\u001b[0m in \u001b[0;36m<module>\u001b[0;34m\u001b[0m\n\u001b[1;32m      1\u001b[0m \u001b[0;31m# Add a row of data to students table\u001b[0m\u001b[0;34m\u001b[0m\u001b[0;34m\u001b[0m\u001b[0;34m\u001b[0m\u001b[0m\n\u001b[0;32m----> 2\u001b[0;31m \u001b[0mcursor\u001b[0m\u001b[0;34m.\u001b[0m\u001b[0mexecute\u001b[0m\u001b[0;34m(\u001b[0m\u001b[0;34m'''INSERT INTO students VALUES (101, 'Alex', 'alex@codeu.com', 32, '2022-05-16', 'Pass')'''\u001b[0m\u001b[0;34m)\u001b[0m\u001b[0;34m\u001b[0m\u001b[0;34m\u001b[0m\u001b[0m\n\u001b[0m",
      "\u001b[0;31mIntegrityError\u001b[0m: UNIQUE constraint failed: students.id"
     ]
    }
   ],
   "source": [
    "# Add a row of data to students table\n",
    "cursor.execute('''INSERT INTO students VALUES (101, 'Alex', 'alex@codeu.com', 32, '2022-05-16', 'Pass')''')"
   ]
  },
  {
   "cell_type": "code",
   "execution_count": 4,
   "id": "41ddd679",
   "metadata": {},
   "outputs": [],
   "source": [
    "# Insert multiple values into table at once\n",
    "students = [(102, 'Joe', 'joseph@codeu.com', 32, '2022-05-16', 'Pass'),\n",
    "            (103, 'Stacy', 'stacy@codeu.com', 10, '2022-05-16', 'Pass'),\n",
    "            (104, 'Angela', 'angela@codeu.com', 21, '2022-12-20', 'Pass'),\n",
    "            (105, 'Mark', 'mark@codeu.com', 21, '2022-12-20', 'Fail'),\n",
    "            (106, 'Nathan', 'nathaniel@codeu.com', 21, '2022-12-20', 'Pass')\n",
    "            ]"
   ]
  },
  {
   "cell_type": "code",
   "execution_count": 5,
   "id": "d1de0ad1",
   "metadata": {},
   "outputs": [
    {
     "data": {
      "text/plain": [
       "<sqlite3.Cursor at 0x7ff96af7f180>"
      ]
     },
     "execution_count": 5,
     "metadata": {},
     "output_type": "execute_result"
    }
   ],
   "source": [
    "# Insert values into the students table\n",
    "cursor.executemany('''INSERT INTO students VALUES (?,?,?,?,?,?)''', students)"
   ]
  },
  {
   "cell_type": "markdown",
   "id": "1bd283dd",
   "metadata": {},
   "source": [
    "We use 6 question marks as placeholders to represent each of the 6 fields in the database that we will insert values into. Having made changes to our database, we need to ensure that the changes will be visible to others who may be working with our database. We use the commit() method on our connection to make sure these changes are committed."
   ]
  },
  {
   "cell_type": "code",
   "execution_count": 24,
   "id": "f3654c94",
   "metadata": {},
   "outputs": [],
   "source": [
    "# Commit changes to database\n",
    "connection.commit()"
   ]
  },
  {
   "cell_type": "code",
   "execution_count": 25,
   "id": "55d0f4f3",
   "metadata": {},
   "outputs": [
    {
     "name": "stdout",
     "output_type": "stream",
     "text": [
      "(101, 'Alex', 'alex@codeu.com', 32, '2022-05-16', 'Pass')\n",
      "(102, 'Joe', 'joseph@codeu.com', 32, '2022-05-16', 'Pass')\n",
      "(103, 'Stacy', 'stacy@codeu.com', 10, '2022-05-16', 'Pass')\n",
      "(104, 'Angela', 'angela@codeu.com', 21, '2022-12-20', 'Pass')\n",
      "(105, 'Mark', 'mark@codeu.com', 21, '2022-12-20', 'Fail')\n",
      "(106, 'Nathan', 'nathaniel@codeu.com', 21, '2022-12-20', 'Pass')\n"
     ]
    }
   ],
   "source": [
    "# Iterate through all rows in students table\n",
    "for row in cursor.execute(\"SELECT * FROM students\"):\n",
    "    print(row)"
   ]
  },
  {
   "cell_type": "markdown",
   "id": "83096bb6",
   "metadata": {},
   "source": [
    "There are a number of sqlite3 methods that will retrieve data, these being\n",
    "\n",
    " - fetchone()\n",
    " - fetchmany()\n",
    " - fetchall()"
   ]
  },
  {
   "cell_type": "code",
   "execution_count": 26,
   "id": "33d3a2fe",
   "metadata": {},
   "outputs": [
    {
     "data": {
      "text/plain": [
       "(101, 'Alex', 'alex@codeu.com', 32, '2022-05-16', 'Pass')"
      ]
     },
     "execution_count": 26,
     "metadata": {},
     "output_type": "execute_result"
    }
   ],
   "source": [
    "# Return first row in students\n",
    "cursor.execute(\"SELECT * FROM students\").fetchone()\n"
   ]
  },
  {
   "cell_type": "code",
   "execution_count": 27,
   "id": "14bcb55e",
   "metadata": {},
   "outputs": [
    {
     "data": {
      "text/plain": [
       "[(101, 'Alex', 'alex@codeu.com', 32, '2022-05-16', 'Pass'),\n",
       " (102, 'Joe', 'joseph@codeu.com', 32, '2022-05-16', 'Pass'),\n",
       " (103, 'Stacy', 'stacy@codeu.com', 10, '2022-05-16', 'Pass')]"
      ]
     },
     "execution_count": 27,
     "metadata": {},
     "output_type": "execute_result"
    }
   ],
   "source": [
    "# Return first three rows in students\n",
    "cursor.execute(\"SELECT * FROM students\").fetchmany(3)"
   ]
  },
  {
   "cell_type": "code",
   "execution_count": 28,
   "id": "a88468ab",
   "metadata": {},
   "outputs": [
    {
     "data": {
      "text/plain": [
       "[(101, 'Alex', 'alex@codeu.com', 32, '2022-05-16', 'Pass'),\n",
       " (102, 'Joe', 'joseph@codeu.com', 32, '2022-05-16', 'Pass'),\n",
       " (103, 'Stacy', 'stacy@codeu.com', 10, '2022-05-16', 'Pass'),\n",
       " (104, 'Angela', 'angela@codeu.com', 21, '2022-12-20', 'Pass'),\n",
       " (105, 'Mark', 'mark@codeu.com', 21, '2022-12-20', 'Fail'),\n",
       " (106, 'Nathan', 'nathaniel@codeu.com', 21, '2022-12-20', 'Pass')]"
      ]
     },
     "execution_count": 28,
     "metadata": {},
     "output_type": "execute_result"
    }
   ],
   "source": [
    "# Return all rows in students\n",
    "cursor.execute(\"SELECT * FROM students\").fetchall()"
   ]
  },
  {
   "cell_type": "markdown",
   "id": "fa122309",
   "metadata": {},
   "source": [
    "All of the SQLite syntax will work in Python. I can use clauses like `WHERE`, `COUNT`, etc."
   ]
  },
  {
   "cell_type": "code",
   "execution_count": 29,
   "id": "a74857fe",
   "metadata": {},
   "outputs": [
    {
     "data": {
      "text/plain": [
       "(5,)"
      ]
     },
     "execution_count": 29,
     "metadata": {},
     "output_type": "execute_result"
    }
   ],
   "source": [
    "# Return the number of rows with a passing grade\n",
    "cursor.execute(\"\"\"SELECT COUNT(*) FROM students WHERE Grade = 'Pass';\"\"\").fetchone()"
   ]
  },
  {
   "cell_type": "markdown",
   "id": "467ebc5f",
   "metadata": {},
   "source": [
    "Let’s say that we would like to find the average of the major codes field. We can use Python methods `sum()` and `len()` on our result set to obtain the mean value of the field."
   ]
  },
  {
   "cell_type": "code",
   "execution_count": 30,
   "id": "0e4b86a7",
   "metadata": {},
   "outputs": [
    {
     "name": "stdout",
     "output_type": "stream",
     "text": [
      "22.833333333333332\n"
     ]
    }
   ],
   "source": [
    "# Create a list of tuples of the major codes\n",
    "major_codes = cursor.execute(\"SELECT major_code FROM students;\").fetchall()\n",
    " \n",
    "# Obtain the average of the tuple list by using for loops\n",
    "sum = 0\n",
    "for num in major_codes: \n",
    "    for i in num: \n",
    "        sum = sum + i \n",
    "average = sum / len(major_codes)\n",
    " \n",
    "# Show average\n",
    "print(average)"
   ]
  },
  {
   "cell_type": "markdown",
   "id": "4bef104f",
   "metadata": {},
   "source": [
    "## SQLite with Pandas\n",
    "\n",
    "Let’s use Pandas to transform our SQLite database into a Pandas DataFrame. First we will import Pandas into Python, then call the Pandas `read_sql_query()` method, that takes in a query and a connection as parameters and returns a DataFrame corresponding to the output of the query:"
   ]
  },
  {
   "cell_type": "code",
   "execution_count": 32,
   "id": "fbffadcf",
   "metadata": {},
   "outputs": [
    {
     "name": "stdout",
     "output_type": "stream",
     "text": [
      "    id    name                email  major_code   grad_date grade\n",
      "0  101    Alex       alex@codeu.com          32  2022-05-16  Pass\n",
      "1  102     Joe     joseph@codeu.com          32  2022-05-16  Pass\n",
      "2  103   Stacy      stacy@codeu.com          10  2022-05-16  Pass\n",
      "3  104  Angela     angela@codeu.com          21  2022-12-20  Pass\n",
      "4  105    Mark       mark@codeu.com          21  2022-12-20  Fail\n",
      "5  106  Nathan  nathaniel@codeu.com          21  2022-12-20  Pass\n"
     ]
    }
   ],
   "source": [
    "import pandas as pd\n",
    "\n",
    "# Create a new dataframe from the result set\n",
    "df = pd.read_sql_query('''SELECT * from students;''', connection)\n",
    " \n",
    "# Show new dataframe\n",
    "print(df)"
   ]
  },
  {
   "cell_type": "markdown",
   "id": "89c27dd1",
   "metadata": {},
   "source": [
    "We can create a number of DataFrames based on any query. For instance, if we want to create a DataFrame containing only those rows where the major code was equal to 21, we can use the `WHERE` clause within the `read_sql_query()` method:"
   ]
  },
  {
   "cell_type": "code",
   "execution_count": 33,
   "id": "5dd64f44",
   "metadata": {},
   "outputs": [
    {
     "name": "stdout",
     "output_type": "stream",
     "text": [
      "    id    name                email  major_code   grad_date grade\n",
      "0  104  Angela     angela@codeu.com          21  2022-12-20  Pass\n",
      "1  105    Mark       mark@codeu.com          21  2022-12-20  Fail\n",
      "2  106  Nathan  nathaniel@codeu.com          21  2022-12-20  Pass\n"
     ]
    }
   ],
   "source": [
    "# Create a new dataframe from the result set\n",
    "df_major21 = pd.read_sql_query('''SELECT * from students WHERE major_code = 21;''', connection)\n",
    " \n",
    "# Show new dataframe\n",
    "print(df_major21)"
   ]
  },
  {
   "cell_type": "markdown",
   "id": "a33f9466",
   "metadata": {},
   "source": [
    "Now that we are working with Pandas, if we wanted to find the average of the major codes, we could simply use the Pandas `mean()` method on the major_code field:"
   ]
  },
  {
   "cell_type": "code",
   "execution_count": 34,
   "id": "37287487",
   "metadata": {},
   "outputs": [
    {
     "data": {
      "text/plain": [
       "22.833333333333332"
      ]
     },
     "execution_count": 34,
     "metadata": {},
     "output_type": "execute_result"
    }
   ],
   "source": [
    "# Return the average of major code\n",
    "df['major_code'].mean()"
   ]
  },
  {
   "cell_type": "code",
   "execution_count": null,
   "id": "77de56fd",
   "metadata": {},
   "outputs": [],
   "source": []
  }
 ],
 "metadata": {
  "kernelspec": {
   "display_name": "Python 3",
   "language": "python",
   "name": "python3"
  },
  "language_info": {
   "codemirror_mode": {
    "name": "ipython",
    "version": 3
   },
   "file_extension": ".py",
   "mimetype": "text/x-python",
   "name": "python",
   "nbconvert_exporter": "python",
   "pygments_lexer": "ipython3",
   "version": "3.9.5"
  }
 },
 "nbformat": 4,
 "nbformat_minor": 5
}
